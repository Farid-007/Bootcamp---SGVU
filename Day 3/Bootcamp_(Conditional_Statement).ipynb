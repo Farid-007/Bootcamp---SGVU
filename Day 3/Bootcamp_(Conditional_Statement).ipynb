{
  "nbformat": 4,
  "nbformat_minor": 0,
  "metadata": {
    "colab": {
      "provenance": []
    },
    "kernelspec": {
      "name": "python3",
      "display_name": "Python 3"
    },
    "language_info": {
      "name": "python"
    }
  },
  "cells": [
    {
      "cell_type": "code",
      "execution_count": null,
      "metadata": {
        "id": "SiAQNV2WpxVE"
      },
      "outputs": [],
      "source": [
        "a = 10\n",
        "if a == 11:\n",
        "    print(\"this is my first condition\")"
      ]
    },
    {
      "cell_type": "code",
      "source": [
        "a = 10\n",
        "if a > 5:\n",
        "    pass"
      ],
      "metadata": {
        "id": "XR_RmLziqUel"
      },
      "execution_count": null,
      "outputs": []
    },
    {
      "cell_type": "code",
      "source": [
        "a = 10\n",
        "if a < 8:\n",
        "    print(\"print this if condition is true\")"
      ],
      "metadata": {
        "id": "LmQtKJ76p5bQ"
      },
      "execution_count": null,
      "outputs": []
    },
    {
      "cell_type": "code",
      "source": [
        "a = 10\n",
        "if a == 11:\n",
        "    print(\"my condition is false\")\n",
        "else:\n",
        "    print(\"print this\")"
      ],
      "metadata": {
        "colab": {
          "base_uri": "https://localhost:8080/"
        },
        "id": "lM8b-oYSqeOf",
        "outputId": "480c0a8e-7ae6-4347-95ba-66743b584450"
      },
      "execution_count": null,
      "outputs": [
        {
          "output_type": "stream",
          "name": "stdout",
          "text": [
            "print this\n"
          ]
        }
      ]
    },
    {
      "cell_type": "code",
      "source": [
        "a = 10\n",
        "if a == 12:\n",
        "    print(\"here we trying to compare 10 with 120\")\n",
        "elif a == 10:\n",
        "    print(\"we are trying to compare 10 with 11\")\n",
        "else:\n",
        "    print(\"if all the blocks will fail then do this\")"
      ],
      "metadata": {
        "colab": {
          "base_uri": "https://localhost:8080/"
        },
        "id": "Kb9eCqKxqfqE",
        "outputId": "a548f2d0-df25-4040-9b1f-d63fef73a97b"
      },
      "execution_count": null,
      "outputs": [
        {
          "output_type": "stream",
          "name": "stdout",
          "text": [
            "we are trying to compare 10 with 11\n"
          ]
        }
      ]
    },
    {
      "cell_type": "code",
      "source": [
        "price = 500\n",
        "if price > 500:\n",
        "    print(\"may be i wont able to buy a jacket\")\n",
        "elif price < 500:\n",
        "    print(\"i will be able to buy a jacket\")\n",
        "elif price == 500:\n",
        "    print(\"for sure i will be able to buy a jacket\")\n",
        "else:\n",
        "    print(\"i dont know\")"
      ],
      "metadata": {
        "colab": {
          "base_uri": "https://localhost:8080/"
        },
        "id": "aHDC__-WqiFq",
        "outputId": "3a14f3a8-44ad-4c46-a372-993f8bb7f7d7"
      },
      "execution_count": null,
      "outputs": [
        {
          "output_type": "stream",
          "name": "stdout",
          "text": [
            "for sure i will be able to buy a jacket\n"
          ]
        }
      ]
    },
    {
      "cell_type": "code",
      "source": [
        "price  > 500"
      ],
      "metadata": {
        "colab": {
          "base_uri": "https://localhost:8080/"
        },
        "id": "SxaJovg6qlIb",
        "outputId": "3ea322e4-3d7e-4305-a523-87f5d252c9f5"
      },
      "execution_count": null,
      "outputs": [
        {
          "output_type": "execute_result",
          "data": {
            "text/plain": [
              "False"
            ]
          },
          "metadata": {},
          "execution_count": 9
        }
      ]
    },
    {
      "cell_type": "code",
      "source": [
        "price < 500"
      ],
      "metadata": {
        "colab": {
          "base_uri": "https://localhost:8080/"
        },
        "id": "lpJHnxNTqm-2",
        "outputId": "6f34986f-3159-422f-984c-ea6181d40a04"
      },
      "execution_count": null,
      "outputs": [
        {
          "output_type": "execute_result",
          "data": {
            "text/plain": [
              "False"
            ]
          },
          "metadata": {},
          "execution_count": 10
        }
      ]
    },
    {
      "cell_type": "code",
      "source": [
        "price == 500"
      ],
      "metadata": {
        "colab": {
          "base_uri": "https://localhost:8080/"
        },
        "id": "iLWHWQYRqodN",
        "outputId": "b2e5a523-802c-4bae-83d6-8b7eaae937b0"
      },
      "execution_count": null,
      "outputs": [
        {
          "output_type": "execute_result",
          "data": {
            "text/plain": [
              "True"
            ]
          },
          "metadata": {},
          "execution_count": 11
        }
      ]
    },
    {
      "cell_type": "code",
      "source": [
        "l = [1,2,3,4,5,6]\n",
        "2 in l"
      ],
      "metadata": {
        "colab": {
          "base_uri": "https://localhost:8080/"
        },
        "id": "Gc1KJIP8qrDJ",
        "outputId": "1266c54d-ff3c-4706-899a-a7df396a3ac7"
      },
      "execution_count": null,
      "outputs": [
        {
          "output_type": "execute_result",
          "data": {
            "text/plain": [
              "True"
            ]
          },
          "metadata": {},
          "execution_count": 12
        }
      ]
    },
    {
      "cell_type": "code",
      "source": [
        "if 60 in l:\n",
        "    print(\"try to perform a task\")\n",
        "else:\n",
        "    print(\"do not perform a task\")"
      ],
      "metadata": {
        "colab": {
          "base_uri": "https://localhost:8080/"
        },
        "id": "ZnGan5BIqsuM",
        "outputId": "5b3b8469-4151-48bb-faea-3c875da65a95"
      },
      "execution_count": null,
      "outputs": [
        {
          "output_type": "stream",
          "name": "stdout",
          "text": [
            "do not perform a task\n"
          ]
        }
      ]
    },
    {
      "cell_type": "code",
      "source": [
        "60 in l"
      ],
      "metadata": {
        "colab": {
          "base_uri": "https://localhost:8080/"
        },
        "id": "nza2LJ_Nqvd1",
        "outputId": "f18d1d38-9674-425e-d7e7-e3ac6745bf35"
      },
      "execution_count": null,
      "outputs": [
        {
          "output_type": "execute_result",
          "data": {
            "text/plain": [
              "False"
            ]
          },
          "metadata": {},
          "execution_count": 14
        }
      ]
    },
    {
      "cell_type": "code",
      "source": [
        "l"
      ],
      "metadata": {
        "colab": {
          "base_uri": "https://localhost:8080/"
        },
        "id": "6_C5wmMuqxnq",
        "outputId": "1aaa2b2f-2eb4-4890-a755-6e775e032c77"
      },
      "execution_count": null,
      "outputs": [
        {
          "output_type": "execute_result",
          "data": {
            "text/plain": [
              "[1, 2, 3, 4, 5, 6]"
            ]
          },
          "metadata": {},
          "execution_count": 15
        }
      ]
    },
    {
      "cell_type": "code",
      "source": [
        "if 10 in l:\n",
        "    print(\"try to do a addition\")\n",
        "elif 2 in l:\n",
        "    print(\"try to do sub\")\n",
        "    if 4 in l:\n",
        "        print(\"this is new statement\")"
      ],
      "metadata": {
        "colab": {
          "base_uri": "https://localhost:8080/"
        },
        "id": "sJZPO49dqykk",
        "outputId": "3b852b28-103e-43d8-ee37-02bef882c1ec"
      },
      "execution_count": null,
      "outputs": [
        {
          "output_type": "stream",
          "name": "stdout",
          "text": [
            "try to do sub\n",
            "this is new statement\n"
          ]
        }
      ]
    },
    {
      "cell_type": "code",
      "source": [
        "b = 450"
      ],
      "metadata": {
        "id": "TJgLB20Eq0cY"
      },
      "execution_count": null,
      "outputs": []
    },
    {
      "cell_type": "code",
      "source": [
        "type(b)"
      ],
      "metadata": {
        "colab": {
          "base_uri": "https://localhost:8080/"
        },
        "id": "Ip-H7ZPWq2iz",
        "outputId": "fcff2266-6e1f-4e56-b53f-418a46c835ba"
      },
      "execution_count": null,
      "outputs": [
        {
          "output_type": "execute_result",
          "data": {
            "text/plain": [
              "int"
            ]
          },
          "metadata": {},
          "execution_count": 18
        }
      ]
    },
    {
      "cell_type": "code",
      "source": [
        "price = int(input(\"Enter the price: \"))\n",
        "if price < 500:\n",
        "    print(\"i will be able to buy something\")\n",
        "    if price < 400:\n",
        "        print(\"i will be able to buy a jacket\")\n",
        "    elif price < 300:\n",
        "        print(\"i will be able to buy a shirt\")\n",
        "        if price < 200:\n",
        "            print(\"i would like to do something\")\n",
        "    else:\n",
        "        print(\"i wont be able to buy a shirt\")\n",
        "else:\n",
        "    print(\"i wont be able to buy anything with the price tag\")\n",
        "    if price > 500:\n",
        "        print(\"lets try something else\")"
      ],
      "metadata": {
        "colab": {
          "base_uri": "https://localhost:8080/"
        },
        "id": "n6sHGfYIq4EL",
        "outputId": "b2b46146-92b0-4fd4-9af8-b86264f5eed8"
      },
      "execution_count": null,
      "outputs": [
        {
          "output_type": "stream",
          "name": "stdout",
          "text": [
            "Enter the price: 450\n",
            "i will be able to buy something\n",
            "i wont be able to buy a shirt\n"
          ]
        }
      ]
    },
    {
      "cell_type": "code",
      "source": [
        "marks = int(input(\"Enter the marks: \"))\n",
        "if marks < 600:\n",
        "    print(\"NO GRE\")\n",
        "    if marks < 500 :\n",
        "        print(\"TOFEL\")\n",
        "        if marks < 400 :\n",
        "            print(\"try something else\")\n",
        "        else:\n",
        "            print(\"YOU GOT TOFEL\")\n",
        "else:\n",
        "        print(\"you got GRE congratulation\")"
      ],
      "metadata": {
        "colab": {
          "base_uri": "https://localhost:8080/"
        },
        "id": "MQSXkkUIq8_E",
        "outputId": "2d8cad00-2679-474a-be28-c9acad002c58"
      },
      "execution_count": null,
      "outputs": [
        {
          "output_type": "stream",
          "name": "stdout",
          "text": [
            "Enter the marks: 500\n",
            "NO GRE\n"
          ]
        }
      ]
    },
    {
      "cell_type": "code",
      "source": [
        "val = float(input(\"enter a foat number:\"))\n",
        "if val >= 0:\n",
        "  if val == 0:\n",
        "    print(\"entered value is zero\")\n",
        "  else:\n",
        "      print(\"entered value is a positive number\")\n",
        "else:\n",
        "  print(\"entered number is negative number\")"
      ],
      "metadata": {
        "colab": {
          "base_uri": "https://localhost:8080/"
        },
        "id": "isP2SgqKrM-h",
        "outputId": "cc7d45c3-cad3-459b-ca84-5a99a110266a"
      },
      "execution_count": null,
      "outputs": [
        {
          "output_type": "stream",
          "name": "stdout",
          "text": [
            "enter a foat number:45.67\n",
            "entered value is a positive number\n"
          ]
        }
      ]
    },
    {
      "cell_type": "code",
      "source": [
        "a,b,c,d= 10,11,12,13\n",
        "#### Question 01 ####\n",
        "if a == 10 or b==11 and c==12 and d==13:\n",
        "    print(\"lets do something 1\")\n",
        "if (a == 10 and b==11) or (c==12 and d==13):\n",
        "    print(\"lets do something 2\")\n",
        "if a==10 and b==11 and c==12 and d==13 or a==9:\n",
        "    print(\"lets do something 3\")\n",
        "if a==10 and b==11 or c==12 and d==13:\n",
        "    print(\"lets do something 4\")\n",
        "###### Question 2 ######\n",
        "#What is the difference between\n",
        "print(type(a) == int)\n",
        "print(type(a) is int)\n"
      ],
      "metadata": {
        "colab": {
          "base_uri": "https://localhost:8080/"
        },
        "id": "T79L9mWPrhWv",
        "outputId": "2c992226-f45f-4848-efbe-f195ee805fbe"
      },
      "execution_count": null,
      "outputs": [
        {
          "output_type": "stream",
          "name": "stdout",
          "text": [
            "lets do something 1\n",
            "lets do something 2\n",
            "lets do something 3\n",
            "lets do something 4\n",
            "True\n",
            "True\n"
          ]
        }
      ]
    },
    {
      "cell_type": "code",
      "source": [
        "a = 10\n",
        "if a < 10 and a == 10:\n",
        "  print(\"try to do something\")"
      ],
      "metadata": {
        "id": "CxpvkHtQ2UQo"
      },
      "execution_count": null,
      "outputs": []
    },
    {
      "cell_type": "code",
      "source": [
        "a = \"python\"\n",
        "if a == \"python\" or a == \"python\":\n",
        "  print(\"this is Farid\")"
      ],
      "metadata": {
        "colab": {
          "base_uri": "https://localhost:8080/"
        },
        "id": "BG_Hly6S9yz7",
        "outputId": "0f06a272-ccd5-449e-f43c-defbaa80f3bd"
      },
      "execution_count": null,
      "outputs": [
        {
          "output_type": "stream",
          "name": "stdout",
          "text": [
            "this is Farid\n"
          ]
        }
      ]
    },
    {
      "cell_type": "code",
      "source": [
        "a = 10\n",
        "b = 11\n",
        "c = 12\n",
        "d = 13\n",
        "if a == 9 or b == 11 and c == 12 and d == 13:\n",
        "  print(\"lets do something\")"
      ],
      "metadata": {
        "colab": {
          "base_uri": "https://localhost:8080/"
        },
        "id": "qXIti9zk-MsD",
        "outputId": "979a6213-8169-49c4-f9e7-eddebb8e2104"
      },
      "execution_count": null,
      "outputs": [
        {
          "output_type": "stream",
          "name": "stdout",
          "text": [
            "lets do something\n"
          ]
        }
      ]
    },
    {
      "cell_type": "code",
      "source": [
        "d = {\"key1\":\"value\",\"key2\":\"Farid\",\"key3\":\"neuron\"}"
      ],
      "metadata": {
        "id": "oU_OIytc-7Cj"
      },
      "execution_count": null,
      "outputs": []
    },
    {
      "cell_type": "code",
      "source": [
        "if d['key1'] == \"value\" and d['key2'] == \"Farid\" and d['key3'] == \"neuron\":\n",
        "  print(\"all the values are verified\")\n",
        "  print(d.values())"
      ],
      "metadata": {
        "colab": {
          "base_uri": "https://localhost:8080/"
        },
        "id": "RCJmcrkm_M0e",
        "outputId": "f4c1a359-95ac-4ede-aa46-35d2611818dc"
      },
      "execution_count": null,
      "outputs": [
        {
          "output_type": "stream",
          "name": "stdout",
          "text": [
            "all the values are verified\n",
            "dict_values(['value', 'Farid', 'neuron'])\n"
          ]
        }
      ]
    },
    {
      "cell_type": "code",
      "source": [
        "l = [1,2,3,4,5,6,'hello',234.45]"
      ],
      "metadata": {
        "id": "VF-BTuWW_eOz"
      },
      "execution_count": null,
      "outputs": []
    },
    {
      "cell_type": "code",
      "source": [
        "for i in l:\n",
        "  if type(i)==int or type(i)==float:\n",
        "    print(i+1)\n",
        "  elif type(i)==str:\n",
        "    print(i+str(1))"
      ],
      "metadata": {
        "colab": {
          "base_uri": "https://localhost:8080/"
        },
        "id": "IUJzat8rBk9F",
        "outputId": "647da9d3-f00d-4948-ac08-600337292d20"
      },
      "execution_count": null,
      "outputs": [
        {
          "output_type": "stream",
          "name": "stdout",
          "text": [
            "2\n",
            "3\n",
            "4\n",
            "5\n",
            "6\n",
            "7\n",
            "hello1\n",
            "235.45\n"
          ]
        }
      ]
    },
    {
      "cell_type": "code",
      "source": [
        "a = [9,8,7,6,5,4,2,1,0]\n",
        "for i in a:\n",
        "  print(i,end=\" \")"
      ],
      "metadata": {
        "colab": {
          "base_uri": "https://localhost:8080/"
        },
        "id": "EGvVdTUCBnch",
        "outputId": "999eb6d6-3fbc-47ea-d032-657bf943aa44"
      },
      "execution_count": null,
      "outputs": [
        {
          "output_type": "stream",
          "name": "stdout",
          "text": [
            "9 8 7 6 5 4 2 1 0 "
          ]
        }
      ]
    },
    {
      "cell_type": "code",
      "source": [
        "l1 = []\n",
        "for i in l:\n",
        "  if type(i)==int:\n",
        "    l1.append(i)"
      ],
      "metadata": {
        "id": "Emy_qvuiCQgO"
      },
      "execution_count": null,
      "outputs": []
    },
    {
      "cell_type": "code",
      "source": [],
      "metadata": {
        "id": "9WiF-vK1E3Dv"
      },
      "execution_count": null,
      "outputs": []
    }
  ]
}