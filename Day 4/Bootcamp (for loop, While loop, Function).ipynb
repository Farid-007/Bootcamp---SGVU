{
 "cells": [
  {
   "cell_type": "markdown",
   "id": "2dff2ad1-ba41-40b6-bb7b-c5ea37780e55",
   "metadata": {},
   "source": [
    "# For Loop"
   ]
  },
  {
   "cell_type": "code",
   "execution_count": 1,
   "id": "0f4af347-734e-4d74-9e97-b1806e1c1307",
   "metadata": {},
   "outputs": [],
   "source": [
    "l = [1,2,3,4,\"python\",\"class\",45.56]"
   ]
  },
  {
   "cell_type": "code",
   "execution_count": 2,
   "id": "f90f5c0b-978a-497c-a323-70e98a5c6863",
   "metadata": {},
   "outputs": [
    {
     "name": "stdout",
     "output_type": "stream",
     "text": [
      "1\n",
      "2\n",
      "3\n",
      "4\n",
      "python\n",
      "class\n",
      "45.56\n"
     ]
    }
   ],
   "source": [
    "for i in l:\n",
    "    print(i)"
   ]
  },
  {
   "cell_type": "code",
   "execution_count": 3,
   "id": "5f9e17dc-e4d1-4596-9f09-294010a1f723",
   "metadata": {},
   "outputs": [
    {
     "name": "stdout",
     "output_type": "stream",
     "text": [
      "W\n",
      "e\n",
      "b\n"
     ]
    }
   ],
   "source": [
    "s = \"Web\"\n",
    "for i in s:\n",
    "    print(i)"
   ]
  },
  {
   "cell_type": "code",
   "execution_count": 4,
   "id": "7d79b49a-4e92-4bc1-b5c2-9889a54e0a3d",
   "metadata": {},
   "outputs": [
    {
     "name": "stdout",
     "output_type": "stream",
     "text": [
      "1\n",
      "2\n",
      "3\n",
      "4\n",
      "python\n",
      "class\n",
      "45.56\n",
      "Ok\n"
     ]
    }
   ],
   "source": [
    "for i in l:\n",
    "    print(i)\n",
    "else:\n",
    "    print(\"Ok\")"
   ]
  },
  {
   "cell_type": "code",
   "execution_count": 5,
   "id": "d6f327be-8500-43b8-9f21-193a2f4a5cb6",
   "metadata": {},
   "outputs": [
    {
     "data": {
      "text/plain": [
       "[1, 2, 3, 4, 'python', 'class', 45.56]"
      ]
     },
     "execution_count": 5,
     "metadata": {},
     "output_type": "execute_result"
    }
   ],
   "source": [
    "l"
   ]
  },
  {
   "cell_type": "code",
   "execution_count": 6,
   "id": "5530b6c1-ae8f-406e-ac6e-43815b911db7",
   "metadata": {},
   "outputs": [
    {
     "name": "stdout",
     "output_type": "stream",
     "text": [
      "1\n",
      "2\n",
      "3\n"
     ]
    }
   ],
   "source": [
    "for i in l:\n",
    "    if i == 4:\n",
    "        break\n",
    "    print(i)\n",
    "else:\n",
    "    print(\"this will execute only if for is going to complete itself\")"
   ]
  },
  {
   "cell_type": "code",
   "execution_count": 7,
   "id": "6fad0037-5de7-45ad-bdeb-c83a607a8be6",
   "metadata": {},
   "outputs": [
    {
     "name": "stdout",
     "output_type": "stream",
     "text": [
      "D\n",
      "e\n",
      "f\n",
      "e\n",
      "n\n",
      "c\n",
      "e\n",
      "print string: Defence\n"
     ]
    }
   ],
   "source": [
    "s = \"Defence\"\n",
    "for i in s:\n",
    "    if i == 'z':\n",
    "        break\n",
    "    print(i)\n",
    "else:\n",
    "    print(\"print string:\", s)"
   ]
  },
  {
   "cell_type": "code",
   "execution_count": 8,
   "id": "2a1d0828-ecaf-4074-9897-96cf25af6ae2",
   "metadata": {},
   "outputs": [
    {
     "name": "stdout",
     "output_type": "stream",
     "text": [
      "4\n",
      "5\n",
      "6\n",
      "7\n",
      "8\n",
      "6\n",
      "python\n"
     ]
    }
   ],
   "source": [
    "t = (4,5,6,7,8,6,\"python\")\n",
    "for i in t:\n",
    "    print(i)"
   ]
  },
  {
   "cell_type": "code",
   "execution_count": 9,
   "id": "9b6fb1d3-df0c-4120-b0a6-0fd937fecccb",
   "metadata": {},
   "outputs": [],
   "source": [
    "b = {4,5,6,7,7,7,7,7,7,7,8,\"class\"}"
   ]
  },
  {
   "cell_type": "code",
   "execution_count": 10,
   "id": "16dfcd1b-6b1f-46c6-87f5-f175a6a0b5ea",
   "metadata": {},
   "outputs": [
    {
     "data": {
      "text/plain": [
       "set"
      ]
     },
     "execution_count": 10,
     "metadata": {},
     "output_type": "execute_result"
    }
   ],
   "source": [
    "type(b)"
   ]
  },
  {
   "cell_type": "code",
   "execution_count": 11,
   "id": "ab3cff9c-1b7a-4590-a624-aa5474c52529",
   "metadata": {},
   "outputs": [
    {
     "name": "stdout",
     "output_type": "stream",
     "text": [
      "4\n",
      "5\n",
      "6\n",
      "7\n",
      "8\n",
      "class\n"
     ]
    }
   ],
   "source": [
    "for i in b:\n",
    "    print(i)"
   ]
  },
  {
   "cell_type": "code",
   "execution_count": 12,
   "id": "095f5a0b-d326-478a-96ca-bebe35c0f62d",
   "metadata": {},
   "outputs": [],
   "source": [
    "d = {'key1':'Karma', 'contact':'python@goog.ai','position':'xyz'}"
   ]
  },
  {
   "cell_type": "code",
   "execution_count": 13,
   "id": "f8e0f34e-73c4-4164-8e75-e8969ea6caa5",
   "metadata": {},
   "outputs": [
    {
     "name": "stdout",
     "output_type": "stream",
     "text": [
      "key1 : Karma\n",
      "contact : python@goog.ai\n",
      "position : xyz\n"
     ]
    }
   ],
   "source": [
    "for i in d:\n",
    "    print(i, \":\", d[i])"
   ]
  },
  {
   "cell_type": "code",
   "execution_count": 14,
   "id": "d0ce2c1a-45dd-4ab4-ad16-0b4f6f27c684",
   "metadata": {},
   "outputs": [
    {
     "data": {
      "text/plain": [
       "[0, 1, 2, 3, 4, 5, 6, 7, 8]"
      ]
     },
     "execution_count": 14,
     "metadata": {},
     "output_type": "execute_result"
    }
   ],
   "source": [
    "list(range(9))"
   ]
  },
  {
   "cell_type": "code",
   "execution_count": 15,
   "id": "10d93a9f-b16c-4867-a457-0cd3938fff8a",
   "metadata": {},
   "outputs": [
    {
     "name": "stdout",
     "output_type": "stream",
     "text": [
      "0\n",
      "1\n",
      "2\n",
      "3\n",
      "4\n",
      "5\n",
      "6\n",
      "7\n",
      "8\n"
     ]
    }
   ],
   "source": [
    "for i in range(9):\n",
    "    print(i)"
   ]
  },
  {
   "cell_type": "code",
   "execution_count": 16,
   "id": "fb2227d8-4bc7-4071-a50c-9e475d697366",
   "metadata": {},
   "outputs": [
    {
     "data": {
      "text/plain": [
       "[]"
      ]
     },
     "execution_count": 16,
     "metadata": {},
     "output_type": "execute_result"
    }
   ],
   "source": [
    "list(range(0,9,-1))"
   ]
  },
  {
   "cell_type": "code",
   "execution_count": 17,
   "id": "c56aa655-29a4-4b19-aec5-6b0d46f433fa",
   "metadata": {},
   "outputs": [
    {
     "data": {
      "text/plain": [
       "[0, 1, 2, 3, 4, 5, 6, 7, 8]"
      ]
     },
     "execution_count": 17,
     "metadata": {},
     "output_type": "execute_result"
    }
   ],
   "source": [
    "list(range(0,9))"
   ]
  },
  {
   "cell_type": "code",
   "execution_count": 18,
   "id": "d72687d4-789e-4321-9701-0629ed75922c",
   "metadata": {},
   "outputs": [
    {
     "data": {
      "text/plain": [
       "[0, 2, 4, 6, 8]"
      ]
     },
     "execution_count": 18,
     "metadata": {},
     "output_type": "execute_result"
    }
   ],
   "source": [
    "list(range(0,9,  2))"
   ]
  },
  {
   "cell_type": "code",
   "execution_count": 19,
   "id": "afcba636-b9e4-426d-a2d7-194b084479cd",
   "metadata": {},
   "outputs": [
    {
     "data": {
      "text/plain": [
       "[]"
      ]
     },
     "execution_count": 19,
     "metadata": {},
     "output_type": "execute_result"
    }
   ],
   "source": [
    "list(range(0,9,  -1))"
   ]
  },
  {
   "cell_type": "code",
   "execution_count": 20,
   "id": "b3cfb4a6-5058-4390-8648-9808acb81839",
   "metadata": {},
   "outputs": [
    {
     "name": "stdout",
     "output_type": "stream",
     "text": [
      "Farid \n",
      "\n",
      "Farid Farid \n",
      "\n",
      "Farid Farid Farid \n",
      "\n",
      "Farid Farid Farid Farid \n",
      "\n"
     ]
    }
   ],
   "source": [
    "n = 4\n",
    "for i in range(4):\n",
    "    for j in range(0, i+1):\n",
    "        print(\"Farid\", end=\" \")\n",
    "    print(\"\\n\")"
   ]
  },
  {
   "cell_type": "code",
   "execution_count": 21,
   "id": "5cbce431-20c4-469a-a7dc-e6c068f92ab5",
   "metadata": {},
   "outputs": [
    {
     "name": "stdout",
     "output_type": "stream",
     "text": [
      "          Fiza \n",
      "     Fiza Fiza Fiza \n",
      "Fiza Fiza Fiza Fiza Fiza \n"
     ]
    }
   ],
   "source": [
    "n = 3\n",
    "for i in range(n):\n",
    "    for j in range(i, n-1):\n",
    "        print(\" \" *len(\"Fiza\"), end=\" \")\n",
    "    for j in range(i+1):\n",
    "        print(\"Fiza\", end=\" \")\n",
    "    for j in range(i):\n",
    "        print(\"Fiza\", end=\" \")\n",
    "    print()"
   ]
  },
  {
   "cell_type": "code",
   "execution_count": 22,
   "id": "1317c22a-796e-4134-b1b7-bb092e6f5da5",
   "metadata": {},
   "outputs": [
    {
     "name": "stdout",
     "output_type": "stream",
     "text": [
      "    Quaiser \n",
      "  Quaiser Quaiser \n",
      "Quaiser Quaiser Quaiser \n"
     ]
    }
   ],
   "source": [
    "n = 3\n",
    "for i in range(n):\n",
    "    for j in range(i, n-1):\n",
    "        print(\" \", end= \" \")\n",
    "    for j in range(i + 1):\n",
    "        print(\"Quaiser\", end=\" \")\n",
    "    print()"
   ]
  },
  {
   "cell_type": "code",
   "execution_count": 23,
   "id": "0294a6bc-8ae0-4c8f-8f21-270b06491a2b",
   "metadata": {},
   "outputs": [
    {
     "name": "stdout",
     "output_type": "stream",
     "text": [
      "    Sharfe \n",
      "  Sharfe Sharfe \n",
      "Sharfe Sharfe Sharfe \n"
     ]
    }
   ],
   "source": [
    "n = 3\n",
    "for i in range(n):\n",
    "    for j in range(i, n-1):\n",
    "        print(\" \", end= \" \")\n",
    "    for j in range (i + 1):\n",
    "            print(\"Sharfe\", end=\" \")\n",
    "    print()"
   ]
  },
  {
   "cell_type": "code",
   "execution_count": 24,
   "id": "3692c4f3-32ee-4295-9221-898d25b0ba8c",
   "metadata": {},
   "outputs": [
    {
     "name": "stdout",
     "output_type": "stream",
     "text": [
      "0 3\n",
      "1 252\n",
      "2 747\n",
      "3 723\n",
      "4 748\n",
      "5 445\n"
     ]
    }
   ],
   "source": [
    "t = (3,252,747,723,748,445)\n",
    "for i in range(len(t)):\n",
    "  print(i,t[i])"
   ]
  },
  {
   "cell_type": "code",
   "execution_count": 25,
   "id": "b3e7fc5a-d25f-43e8-af99-2adb12a1b5a4",
   "metadata": {},
   "outputs": [
    {
     "name": "stdout",
     "output_type": "stream",
     "text": [
      "0 N\n",
      "1 e\n",
      "2 u\n",
      "3 r\n",
      "4 o\n",
      "5 n\n"
     ]
    }
   ],
   "source": [
    "s = \"Neuron\"\n",
    "for i in range(len(s)):\n",
    "  print(i,s[i])"
   ]
  },
  {
   "cell_type": "code",
   "execution_count": 26,
   "id": "b5b3a7ad-5b61-472e-8cf4-3e618fce72fe",
   "metadata": {},
   "outputs": [
    {
     "name": "stdout",
     "output_type": "stream",
     "text": [
      "('key1', 'Karma') <class 'tuple'> <class 'str'>\n",
      "('contact', 'python@goog.ai') <class 'tuple'> <class 'str'>\n",
      "('position', 'xyz') <class 'tuple'> <class 'str'>\n"
     ]
    }
   ],
   "source": [
    "for i in d.items():\n",
    "    print(i, type(i), type(i[1]))"
   ]
  },
  {
   "cell_type": "code",
   "execution_count": 27,
   "id": "b54a290c-05d3-4a81-b1af-fff37d1f7f70",
   "metadata": {},
   "outputs": [],
   "source": [
    "s = \"aaaabbccd\""
   ]
  },
  {
   "cell_type": "code",
   "execution_count": 28,
   "id": "ad34b219-8209-4023-a3ed-b1d9826104ba",
   "metadata": {},
   "outputs": [
    {
     "name": "stdout",
     "output_type": "stream",
     "text": [
      "a : 4\n",
      "c : 2\n",
      "b : 2\n",
      "d : 1\n"
     ]
    }
   ],
   "source": [
    "for i in set(s):\n",
    "    print(i, \":\", s.count(i))"
   ]
  },
  {
   "cell_type": "code",
   "execution_count": 29,
   "id": "7c1c52b5-bd7c-4122-9428-9c30c36be0ae",
   "metadata": {},
   "outputs": [
    {
     "data": {
      "text/plain": [
       "4"
      ]
     },
     "execution_count": 29,
     "metadata": {},
     "output_type": "execute_result"
    }
   ],
   "source": [
    "s.count('a')"
   ]
  },
  {
   "cell_type": "code",
   "execution_count": 30,
   "id": "8de073dc-a12a-46ee-8ced-0fa609e9bb95",
   "metadata": {},
   "outputs": [
    {
     "name": "stdout",
     "output_type": "stream",
     "text": [
      "2 <class 'int'>\n",
      "3 <class 'int'>\n",
      "4 <class 'int'>\n",
      "6 <class 'int'>\n",
      "6 <class 'int'>\n",
      "3 <class 'int'>\n",
      "8 <class 'int'>\n",
      "7 <class 'int'>\n",
      "3 <class 'int'>\n",
      "4 <class 'int'>\n",
      "7 <class 'int'>\n",
      "9 <class 'int'>\n",
      "2 <class 'int'>\n",
      "7 <class 'int'>\n",
      "4 <class 'int'>\n",
      "9 <class 'int'>\n",
      "7 <class 'int'>\n",
      "5 <class 'int'>\n",
      "7 <class 'int'>\n",
      "3 <class 'int'>\n",
      "4 <class 'int'>\n",
      "5 <class 'int'>\n"
     ]
    }
   ],
   "source": [
    "i= 2346638734792749757345\n",
    "for j in str(i):\n",
    "  print(int(j ),type(int(j)))"
   ]
  },
  {
   "cell_type": "code",
   "execution_count": 31,
   "id": "3afd09b3-ac46-43d0-83a1-9c1f914437c9",
   "metadata": {},
   "outputs": [
    {
     "data": {
      "text/plain": [
       "'2346638734792749757345'"
      ]
     },
     "execution_count": 31,
     "metadata": {},
     "output_type": "execute_result"
    }
   ],
   "source": [
    "str(i)"
   ]
  },
  {
   "cell_type": "code",
   "execution_count": 32,
   "id": "bcc7e567-c2b8-4474-8d50-8dff09fae110",
   "metadata": {},
   "outputs": [],
   "source": [
    "t = (\"python\", \"class\", [1,2,3,4,5,6],[3,4,5,6],{\"key2\":\"web\"})"
   ]
  },
  {
   "cell_type": "code",
   "execution_count": 33,
   "id": "10ab49a6-e1bc-490a-8755-38e4c68645f1",
   "metadata": {},
   "outputs": [],
   "source": [
    "t = (\"python\", \"class\", [1,2,3,4,5,7],(3,4,58),{3:3,3:\"Farid\", \"key1\":\"web\", \"key2\":\"class\"})"
   ]
  },
  {
   "cell_type": "code",
   "execution_count": 34,
   "id": "b0b74272-1311-45df-a950-e8bf6d85e07d",
   "metadata": {},
   "outputs": [
    {
     "name": "stdout",
     "output_type": "stream",
     "text": [
      "3\n",
      "3\n",
      "3\n",
      "Farid\n"
     ]
    }
   ],
   "source": [
    "for i in t:\n",
    "    if type(i) == list or type(i) == tuple:\n",
    "        for j in i:\n",
    "            if j == 3:\n",
    "                print(j)\n",
    "    if type(i) == dict:\n",
    "        for k,v in i.items():\n",
    "            if k == 3 or v == 3:\n",
    "                print(k)\n",
    "                print(v)"
   ]
  },
  {
   "cell_type": "code",
   "execution_count": 35,
   "id": "a90d16d0-f664-4f7f-a697-32efb06a3be5",
   "metadata": {},
   "outputs": [],
   "source": [
    "d = {4:5, \"key1\":\"py\", \"key2\":\"VS\"}"
   ]
  },
  {
   "cell_type": "code",
   "execution_count": 36,
   "id": "6753cc34-6eca-4ecc-85ca-3ed85ad65095",
   "metadata": {},
   "outputs": [
    {
     "data": {
      "text/plain": [
       "dict_items([(4, 5), ('key1', 'py'), ('key2', 'VS')])"
      ]
     },
     "execution_count": 36,
     "metadata": {},
     "output_type": "execute_result"
    }
   ],
   "source": [
    "d.items()"
   ]
  },
  {
   "cell_type": "code",
   "execution_count": 37,
   "id": "48797559-7724-4f0d-8886-56b63c90a46c",
   "metadata": {},
   "outputs": [
    {
     "name": "stdout",
     "output_type": "stream",
     "text": [
      "(4, 5)\n",
      "('key1', 'py')\n",
      "('key2', 'VS')\n"
     ]
    }
   ],
   "source": [
    "for i in d.items():\n",
    "    print(i)"
   ]
  },
  {
   "cell_type": "markdown",
   "id": "a09fbe3a-c09e-464e-a6f2-42e22e6fe412",
   "metadata": {},
   "source": [
    "# While Loop"
   ]
  },
  {
   "cell_type": "code",
   "execution_count": 38,
   "id": "164b410d-a42e-41f7-98f0-d3e33bfaa3ea",
   "metadata": {},
   "outputs": [],
   "source": [
    "a = 10\n",
    "b = 20\n",
    "c = 30"
   ]
  },
  {
   "cell_type": "code",
   "execution_count": 39,
   "id": "219bf4cb-672c-4ec3-b94f-f61f8cf2ea17",
   "metadata": {},
   "outputs": [],
   "source": [
    "a, b, c = 10,20,30"
   ]
  },
  {
   "cell_type": "code",
   "execution_count": 40,
   "id": "07aaf807-bfdf-4143-89f7-c20201fae2ef",
   "metadata": {},
   "outputs": [],
   "source": [
    "a,b,c = (10,20,30)"
   ]
  },
  {
   "cell_type": "code",
   "execution_count": 41,
   "id": "8a8bddd1-404d-47eb-bb7a-a7ad8f7cd691",
   "metadata": {},
   "outputs": [
    {
     "name": "stdout",
     "output_type": "stream",
     "text": [
      "2\n",
      "3\n",
      "4\n",
      "5\n",
      "6\n",
      "7\n",
      "8\n",
      "9\n",
      "10\n",
      "11\n"
     ]
    }
   ],
   "source": [
    "a = 1\n",
    "b = 10\n",
    "while a <= b:\n",
    "    a = a + 1\n",
    "    print(a)"
   ]
  },
  {
   "cell_type": "code",
   "execution_count": 42,
   "id": "348ef160-bc86-44c0-8ffd-a5cc7d2f631e",
   "metadata": {},
   "outputs": [
    {
     "name": "stdout",
     "output_type": "stream",
     "text": [
      "1\n",
      "2\n",
      "3\n",
      "4\n",
      "5\n"
     ]
    }
   ],
   "source": [
    "a = 1\n",
    "b = 10\n",
    "while a<b:\n",
    "    print(a)\n",
    "    if a == 5:\n",
    "        break\n",
    "    a = a+1\n",
    "else:\n",
    "    print(\"print this\")\n",
    "    "
   ]
  },
  {
   "cell_type": "code",
   "execution_count": 43,
   "id": "11ce7ed7-2f12-41eb-8cf5-7f63492770e0",
   "metadata": {},
   "outputs": [
    {
     "name": "stdout",
     "output_type": "stream",
     "text": [
      "2\n",
      "3\n",
      "4\n",
      "5\n",
      "6\n",
      "7\n",
      "8\n",
      "9\n",
      "10\n"
     ]
    }
   ],
   "source": [
    "a = 1\n",
    "b = 10\n",
    "while a < b:\n",
    "    a = a + 1\n",
    "    if a == 3:\n",
    "        pass\n",
    "    print(a)"
   ]
  },
  {
   "cell_type": "code",
   "execution_count": 44,
   "id": "1c93ca9d-bbfd-4f43-a93d-5b2a537f1fc9",
   "metadata": {},
   "outputs": [
    {
     "data": {
      "text/plain": [
       "8"
      ]
     },
     "execution_count": 44,
     "metadata": {},
     "output_type": "execute_result"
    }
   ],
   "source": [
    "l = [1,2,3,4,65,56,65,34]\n",
    "len(l)"
   ]
  },
  {
   "cell_type": "code",
   "execution_count": 45,
   "id": "8cbb999d-2d84-42e7-8d4d-3666dd891a75",
   "metadata": {},
   "outputs": [
    {
     "name": "stdout",
     "output_type": "stream",
     "text": [
      "1\n",
      "2\n",
      "3\n",
      "4\n",
      "65\n",
      "56\n",
      "65\n",
      "34\n"
     ]
    }
   ],
   "source": [
    "a = 0\n",
    "while a < len(l):\n",
    "    print(l[a])\n",
    "    a = a + 1"
   ]
  },
  {
   "cell_type": "code",
   "execution_count": 46,
   "id": "af0ca8e6-7de5-40d9-89fc-e9eb5466e6eb",
   "metadata": {},
   "outputs": [],
   "source": [
    "t = (3,4,5,6,7,8,8)"
   ]
  },
  {
   "cell_type": "code",
   "execution_count": 47,
   "id": "f685a264-8b93-4b8c-baa5-0654a7045bc4",
   "metadata": {},
   "outputs": [
    {
     "name": "stdout",
     "output_type": "stream",
     "text": [
      "3\n",
      "4\n"
     ]
    }
   ],
   "source": [
    "a = 0\n",
    "while a<len(t):\n",
    "    if t[a]==6 or t[a]==7:\n",
    "        print(a)\n",
    "    a = a+1"
   ]
  },
  {
   "cell_type": "code",
   "execution_count": 48,
   "id": "fbe2b3a8-0cc2-4310-bc48-c692c1337542",
   "metadata": {},
   "outputs": [],
   "source": [
    "#t = (3,4,5,6,7,8,9)\n",
    "#i = 0\n",
    "#while i < len(l):\n",
    "    #if(l[i]==6) or l[i]==7:\n",
    "        #print(i)\n",
    "    #if i ==-len(l):\n",
    "        #break\n",
    "    #i = 1\n",
    "    #i = i - 1"
   ]
  },
  {
   "cell_type": "code",
   "execution_count": 49,
   "id": "2469fbf1-0656-45a2-acec-34afe8288b91",
   "metadata": {},
   "outputs": [
    {
     "name": "stdout",
     "output_type": "stream",
     "text": [
      "index of 7 is -3\n",
      "index of 6 is -4\n"
     ]
    }
   ],
   "source": [
    "a=-1\n",
    "while a>=-len(t):\n",
    "    if t[a]==6 or t[a]==7:\n",
    "        print(\"index of\" ,t[a], 'is',a)\n",
    "    a=a-1"
   ]
  },
  {
   "cell_type": "code",
   "execution_count": 50,
   "id": "1fe8ca99-fa72-4d09-9407-9e5209973ef4",
   "metadata": {},
   "outputs": [],
   "source": [
    "d={'k1':\"sudh\" ,\"k2\":[1,2,3,4,5], \"k3\": (2,3,4,5,6,6,7)}"
   ]
  },
  {
   "cell_type": "code",
   "execution_count": 51,
   "id": "5adb16ca-18d6-442a-8a8f-99028062c7f5",
   "metadata": {},
   "outputs": [
    {
     "name": "stdout",
     "output_type": "stream",
     "text": [
      "sudh\n",
      "[1, 2, 3, 4, 5]\n",
      "(2, 3, 4, 5, 6, 6, 7)\n"
     ]
    }
   ],
   "source": [
    "a=0\n",
    "b=list(d.keys())\n",
    "while a < len(d):\n",
    "    print(d[b[a]])\n",
    "    a=a+1"
   ]
  },
  {
   "cell_type": "code",
   "execution_count": 52,
   "id": "e14fde7a-6d37-4d56-a69e-d5aeb846a297",
   "metadata": {},
   "outputs": [],
   "source": [
    "b = list(d.keys())"
   ]
  },
  {
   "cell_type": "code",
   "execution_count": 53,
   "id": "6b84ebea-1f1d-446c-87bf-0b3544f3d993",
   "metadata": {},
   "outputs": [
    {
     "data": {
      "text/plain": [
       "['k1', 'k2', 'k3']"
      ]
     },
     "execution_count": 53,
     "metadata": {},
     "output_type": "execute_result"
    }
   ],
   "source": [
    "b"
   ]
  },
  {
   "cell_type": "markdown",
   "id": "f9559bc7-a503-473e-9ccb-a72bd2fa2b50",
   "metadata": {},
   "source": [
    "# Function"
   ]
  },
  {
   "cell_type": "code",
   "execution_count": 54,
   "id": "eee2eb52-6c3f-4658-8e8a-3ad70ec23ed8",
   "metadata": {},
   "outputs": [],
   "source": [
    "def test():\n",
    "    print(\"this is my first function\")"
   ]
  },
  {
   "cell_type": "code",
   "execution_count": 55,
   "id": "677d2f7c-40f1-4944-9a66-9c5bfd136a4d",
   "metadata": {},
   "outputs": [
    {
     "name": "stdout",
     "output_type": "stream",
     "text": [
      "this is my first function\n"
     ]
    },
    {
     "data": {
      "text/plain": [
       "'NoneFarid'"
      ]
     },
     "execution_count": 55,
     "metadata": {},
     "output_type": "execute_result"
    }
   ],
   "source": [
    "str(test()) + \"Farid\""
   ]
  },
  {
   "cell_type": "code",
   "execution_count": 56,
   "id": "8cd675af-b997-4a2f-bbe2-5a2fa376b12b",
   "metadata": {},
   "outputs": [
    {
     "name": "stdout",
     "output_type": "stream",
     "text": [
      "this is my first function\n"
     ]
    },
    {
     "data": {
      "text/plain": [
       "NoneType"
      ]
     },
     "execution_count": 56,
     "metadata": {},
     "output_type": "execute_result"
    }
   ],
   "source": [
    "type(test())"
   ]
  },
  {
   "cell_type": "code",
   "execution_count": 57,
   "id": "05db2649-4495-404b-828c-c797e569d5f9",
   "metadata": {},
   "outputs": [],
   "source": [
    "def test1():\n",
    "    return \"Pass\""
   ]
  },
  {
   "cell_type": "code",
   "execution_count": 58,
   "id": "fdaa992b-6161-4de2-9b4d-d3b866fc8dae",
   "metadata": {},
   "outputs": [
    {
     "data": {
      "text/plain": [
       "'Passfarid'"
      ]
     },
     "execution_count": 58,
     "metadata": {},
     "output_type": "execute_result"
    }
   ],
   "source": [
    "test1() + \"farid\""
   ]
  },
  {
   "cell_type": "code",
   "execution_count": 59,
   "id": "0079d999-3c80-4e63-ad52-919761060da3",
   "metadata": {},
   "outputs": [],
   "source": [
    "def test2():\n",
    "    pass"
   ]
  },
  {
   "cell_type": "code",
   "execution_count": 60,
   "id": "39b02d00-5e08-4464-b6c5-0049a53c740c",
   "metadata": {},
   "outputs": [],
   "source": [
    "def test3():\n",
    "    return 1,3,5, [1,2,3,4,45,5]"
   ]
  },
  {
   "cell_type": "code",
   "execution_count": 61,
   "id": "27cade44-07e7-47e9-9de4-3ba2d5aeafc3",
   "metadata": {},
   "outputs": [
    {
     "data": {
      "text/plain": [
       "(1, 3, 5, [1, 2, 3, 4, 45, 5])"
      ]
     },
     "execution_count": 61,
     "metadata": {},
     "output_type": "execute_result"
    }
   ],
   "source": [
    "test3()"
   ]
  },
  {
   "cell_type": "code",
   "execution_count": 62,
   "id": "173bda1b-fb33-437e-8d3a-ebafb031563b",
   "metadata": {},
   "outputs": [],
   "source": [
    "a = 10\n",
    "b = 20\n",
    "c = 30"
   ]
  },
  {
   "cell_type": "code",
   "execution_count": 63,
   "id": "de7ccf17-b6cf-49bf-9bad-b6975eff4317",
   "metadata": {},
   "outputs": [
    {
     "ename": "ValueError",
     "evalue": "too many values to unpack (expected 5)",
     "output_type": "error",
     "traceback": [
      "\u001b[1;31m---------------------------------------------------------------------------\u001b[0m",
      "\u001b[1;31mValueError\u001b[0m                                Traceback (most recent call last)",
      "Cell \u001b[1;32mIn[63], line 1\u001b[0m\n\u001b[1;32m----> 1\u001b[0m a, b, c, _, t \u001b[38;5;241m=\u001b[39m (\u001b[38;5;241m23\u001b[39m,\u001b[38;5;241m343\u001b[39m,\u001b[38;5;241m454\u001b[39m,\u001b[38;5;241m56\u001b[39m,\u001b[38;5;241m245\u001b[39m,\u001b[38;5;241m678\u001b[39m,\u001b[38;5;241m4556\u001b[39m,\u001b[38;5;241m6\u001b[39m)\n",
      "\u001b[1;31mValueError\u001b[0m: too many values to unpack (expected 5)"
     ]
    }
   ],
   "source": [
    "a, b, c, _, t = (23,343,454,56,245,678,4556,6)"
   ]
  },
  {
   "cell_type": "code",
   "execution_count": 64,
   "id": "0e3440fc-47d6-46c7-8d90-662439b61683",
   "metadata": {},
   "outputs": [],
   "source": [
    "def test4():\n",
    "    a = 4 * 5\n",
    "    b = 6 + 4\n",
    "    return a , b"
   ]
  },
  {
   "cell_type": "code",
   "execution_count": 65,
   "id": "7ccf8f1a-6e54-483a-8e00-126c298bcf3e",
   "metadata": {},
   "outputs": [],
   "source": [
    "g= test4()"
   ]
  },
  {
   "cell_type": "code",
   "execution_count": 66,
   "id": "20ce9fb4-f271-4119-bf3d-3bf113f95f90",
   "metadata": {},
   "outputs": [
    {
     "data": {
      "text/plain": [
       "(20, 10)"
      ]
     },
     "execution_count": 66,
     "metadata": {},
     "output_type": "execute_result"
    }
   ],
   "source": [
    "g"
   ]
  },
  {
   "cell_type": "code",
   "execution_count": 67,
   "id": "ec846298-e10e-4a5e-aae6-99ec6fc332b9",
   "metadata": {},
   "outputs": [],
   "source": [
    "j,k = test4()"
   ]
  },
  {
   "cell_type": "code",
   "execution_count": 68,
   "id": "dbe12df6-0ad5-4132-815f-ffcd497a53e1",
   "metadata": {},
   "outputs": [
    {
     "data": {
      "text/plain": [
       "20"
      ]
     },
     "execution_count": 68,
     "metadata": {},
     "output_type": "execute_result"
    }
   ],
   "source": [
    "j"
   ]
  },
  {
   "cell_type": "code",
   "execution_count": 69,
   "id": "5bf330a9-5a3b-41f4-903e-fe45053ac53c",
   "metadata": {},
   "outputs": [
    {
     "data": {
      "text/plain": [
       "10"
      ]
     },
     "execution_count": 69,
     "metadata": {},
     "output_type": "execute_result"
    }
   ],
   "source": [
    "k"
   ]
  },
  {
   "cell_type": "code",
   "execution_count": 70,
   "id": "b3d1de3b-fa53-4202-a518-c71178d077cc",
   "metadata": {},
   "outputs": [],
   "source": [
    "_,m=test4()"
   ]
  },
  {
   "cell_type": "code",
   "execution_count": 71,
   "id": "dadda3cf-e1cc-41e9-a800-8bca5f14149a",
   "metadata": {},
   "outputs": [
    {
     "data": {
      "text/plain": [
       "10"
      ]
     },
     "execution_count": 71,
     "metadata": {},
     "output_type": "execute_result"
    }
   ],
   "source": [
    "m"
   ]
  },
  {
   "cell_type": "code",
   "execution_count": 72,
   "id": "d7059347-c5e3-4cf3-ad1f-d24a406d51c5",
   "metadata": {},
   "outputs": [
    {
     "data": {
      "text/plain": [
       "20"
      ]
     },
     "execution_count": 72,
     "metadata": {},
     "output_type": "execute_result"
    }
   ],
   "source": [
    "_"
   ]
  },
  {
   "cell_type": "code",
   "execution_count": 73,
   "id": "76212ad5-b821-480a-a673-b44a2c8b4e7c",
   "metadata": {},
   "outputs": [
    {
     "data": {
      "text/plain": [
       "(1, 3, 5, [1, 2, 3, 4, 45, 5])"
      ]
     },
     "execution_count": 73,
     "metadata": {},
     "output_type": "execute_result"
    }
   ],
   "source": [
    "test3()"
   ]
  },
  {
   "cell_type": "code",
   "execution_count": 74,
   "id": "aa1a97ff-9799-404f-8d79-b28dd826f555",
   "metadata": {},
   "outputs": [],
   "source": [
    "_, _, _, g = test3()"
   ]
  },
  {
   "cell_type": "code",
   "execution_count": 75,
   "id": "46fdc7cd-5888-4a09-9b64-35e1cbb0a686",
   "metadata": {},
   "outputs": [
    {
     "data": {
      "text/plain": [
       "5"
      ]
     },
     "execution_count": 75,
     "metadata": {},
     "output_type": "execute_result"
    }
   ],
   "source": [
    "_"
   ]
  },
  {
   "cell_type": "code",
   "execution_count": 76,
   "id": "db26bf07-5024-40a9-abd9-75ce6f71d1ed",
   "metadata": {},
   "outputs": [],
   "source": [
    "def test5():\n",
    "   a = 1\n",
    "   b = 10\n",
    "   while a <= b:\n",
    "      print(a)\n",
    "      a = a + 2\n",
    "   else:\n",
    "      print(\"print this else block\")"
   ]
  },
  {
   "cell_type": "code",
   "execution_count": 77,
   "id": "6322a3aa-ec7c-49e8-8b25-5c2625b913af",
   "metadata": {},
   "outputs": [
    {
     "name": "stdout",
     "output_type": "stream",
     "text": [
      "1\n",
      "3\n",
      "5\n",
      "7\n",
      "9\n",
      "print this else block\n"
     ]
    }
   ],
   "source": [
    "test5()"
   ]
  },
  {
   "cell_type": "code",
   "execution_count": 78,
   "id": "bc9e92fb-87f0-4525-9d92-d1ad77edead0",
   "metadata": {},
   "outputs": [],
   "source": [
    "def test5(a,b):\n",
    "  l = []\n",
    "  while a <= b:\n",
    "    l.append(a)\n",
    "    a = a+b\n",
    "  else:\n",
    "    print(\"print this else block\")\n",
    "  return"
   ]
  },
  {
   "cell_type": "code",
   "execution_count": 79,
   "id": "b66b6bcd-6186-41a2-a849-ad3e50f55329",
   "metadata": {},
   "outputs": [
    {
     "data": {
      "text/plain": [
       "10"
      ]
     },
     "execution_count": 79,
     "metadata": {},
     "output_type": "execute_result"
    }
   ],
   "source": [
    "a"
   ]
  },
  {
   "cell_type": "code",
   "execution_count": 80,
   "id": "ab7440ad-81af-4af1-9393-66dae148ed7a",
   "metadata": {},
   "outputs": [
    {
     "data": {
      "text/plain": [
       "20"
      ]
     },
     "execution_count": 80,
     "metadata": {},
     "output_type": "execute_result"
    }
   ],
   "source": [
    "b"
   ]
  },
  {
   "cell_type": "code",
   "execution_count": 81,
   "id": "cdb78bb3-36a6-4d6b-87d6-643ea2dc7aca",
   "metadata": {},
   "outputs": [
    {
     "name": "stdout",
     "output_type": "stream",
     "text": [
      "print this else block\n"
     ]
    }
   ],
   "source": [
    "test5(a,b)"
   ]
  },
  {
   "cell_type": "code",
   "execution_count": 82,
   "id": "0285b7b4-47ae-46cc-9e01-007c1206b341",
   "metadata": {},
   "outputs": [],
   "source": [
    "l = [4,5,6,7,8,99,87,5,5,4,4,4,[3,4,5,6,7,7],\"Python\"]"
   ]
  },
  {
   "cell_type": "code",
   "execution_count": 83,
   "id": "54f676cb-0bc5-44be-87d8-5d5777e57099",
   "metadata": {},
   "outputs": [],
   "source": [
    "l1 = []\n",
    "for i in l:\n",
    "  if type(i)==int:\n",
    "    l1.append(i)"
   ]
  },
  {
   "cell_type": "code",
   "execution_count": 84,
   "id": "5eb08c58-f4fd-487a-8dcb-607786515c76",
   "metadata": {},
   "outputs": [
    {
     "data": {
      "text/plain": [
       "[4, 5, 6, 7, 8, 99, 87, 5, 5, 4, 4, 4]"
      ]
     },
     "execution_count": 84,
     "metadata": {},
     "output_type": "execute_result"
    }
   ],
   "source": [
    "l1"
   ]
  },
  {
   "cell_type": "code",
   "execution_count": 85,
   "id": "beb2d934-2063-49c0-8618-1607ff239348",
   "metadata": {},
   "outputs": [],
   "source": [
    "def test7():\n",
    "    l1 = []\n",
    "    for i in l:\n",
    "        if type(i) == int:\n",
    "            l.append(i)\n",
    "    return l1"
   ]
  },
  {
   "cell_type": "code",
   "execution_count": 86,
   "id": "454f2c35-88ec-4a83-b151-b4add10ac390",
   "metadata": {},
   "outputs": [
    {
     "data": {
      "text/plain": [
       "[4, 5, 6, 7, 8, 99, 87, 5, 5, 4, 4, 4]"
      ]
     },
     "execution_count": 86,
     "metadata": {},
     "output_type": "execute_result"
    }
   ],
   "source": [
    "l1"
   ]
  },
  {
   "cell_type": "code",
   "execution_count": 87,
   "id": "4f82c9b8-a336-4273-b7bd-ec80ebe24237",
   "metadata": {},
   "outputs": [],
   "source": [
    "# test7()"
   ]
  },
  {
   "cell_type": "code",
   "execution_count": 88,
   "id": "70ac3113-730c-4d42-a801-4cd34375303a",
   "metadata": {},
   "outputs": [],
   "source": [
    "l3=[345,45,55,5,6,7,8,\"python\",(4,4,6)]"
   ]
  },
  {
   "cell_type": "code",
   "execution_count": 89,
   "id": "ad67692a-c62e-45d5-bffe-9fc2171ac7f0",
   "metadata": {},
   "outputs": [],
   "source": [
    "def test7(l):\n",
    "    l1=[]"
   ]
  },
  {
   "cell_type": "code",
   "execution_count": 90,
   "id": "964e4109-470d-4c04-ab6e-0cdeea652d81",
   "metadata": {},
   "outputs": [],
   "source": [
    "def test8(t):\n",
    "    a=-1\n",
    "    while a>=-len(t):\n",
    "        if t[a]==6 or t[a]==7:\n",
    "            print('index of',t[a] ,'is',a)\n",
    "        a=a-1"
   ]
  },
  {
   "cell_type": "code",
   "execution_count": 91,
   "id": "730b1caf-175d-47a1-8ff1-b1ac7399842d",
   "metadata": {},
   "outputs": [
    {
     "name": "stdout",
     "output_type": "stream",
     "text": [
      "index of 7 is -3\n",
      "index of 6 is -4\n"
     ]
    }
   ],
   "source": [
    "test8(t)"
   ]
  },
  {
   "cell_type": "code",
   "execution_count": 92,
   "id": "3d460084-b69f-49e2-aecb-5ade69befe32",
   "metadata": {},
   "outputs": [
    {
     "name": "stdout",
     "output_type": "stream",
     "text": [
      "index of 7 is -2\n",
      "index of 7 is -3\n",
      "index of 7 is -4\n",
      "index of 6 is -5\n",
      "index of 6 is -6\n"
     ]
    }
   ],
   "source": [
    "test8((3,4,4,6,6,7,7,7,88))"
   ]
  },
  {
   "cell_type": "markdown",
   "id": "802ff351-354f-42ed-a35e-8ef093c63c5c",
   "metadata": {},
   "source": [
    "# Q- Try to print all the number divisible by 3 in range between 40-400"
   ]
  },
  {
   "cell_type": "code",
   "execution_count": 6,
   "id": "0b68f3ed-2468-4dd5-85b2-0de7f22fd570",
   "metadata": {},
   "outputs": [
    {
     "name": "stdout",
     "output_type": "stream",
     "text": [
      "42\n",
      "45\n",
      "48\n",
      "51\n",
      "54\n",
      "57\n",
      "60\n",
      "63\n",
      "66\n",
      "69\n",
      "72\n",
      "75\n",
      "78\n",
      "81\n",
      "84\n",
      "87\n",
      "90\n",
      "93\n",
      "96\n",
      "99\n",
      "102\n",
      "105\n",
      "108\n",
      "111\n",
      "114\n",
      "117\n",
      "120\n",
      "123\n",
      "126\n",
      "129\n",
      "132\n",
      "135\n",
      "138\n",
      "141\n",
      "144\n",
      "147\n",
      "150\n",
      "153\n",
      "156\n",
      "159\n",
      "162\n",
      "165\n",
      "168\n",
      "171\n",
      "174\n",
      "177\n",
      "180\n",
      "183\n",
      "186\n",
      "189\n",
      "192\n",
      "195\n",
      "198\n",
      "201\n",
      "204\n",
      "207\n",
      "210\n",
      "213\n",
      "216\n",
      "219\n",
      "222\n",
      "225\n",
      "228\n",
      "231\n",
      "234\n",
      "237\n",
      "240\n",
      "243\n",
      "246\n",
      "249\n",
      "252\n",
      "255\n",
      "258\n",
      "261\n",
      "264\n",
      "267\n",
      "270\n",
      "273\n",
      "276\n",
      "279\n",
      "282\n",
      "285\n",
      "288\n",
      "291\n",
      "294\n",
      "297\n",
      "300\n",
      "303\n",
      "306\n",
      "309\n",
      "312\n",
      "315\n",
      "318\n",
      "321\n",
      "324\n",
      "327\n",
      "330\n",
      "333\n",
      "336\n",
      "339\n",
      "342\n",
      "345\n",
      "348\n",
      "351\n",
      "354\n",
      "357\n",
      "360\n",
      "363\n",
      "366\n",
      "369\n",
      "372\n",
      "375\n",
      "378\n",
      "381\n",
      "384\n",
      "387\n",
      "390\n",
      "393\n",
      "396\n",
      "399\n"
     ]
    }
   ],
   "source": [
    "# To avoid issues, reset 'range' if it was accidentally redefined\n",
    "del range\n",
    "\n",
    "# Print numbers divisible by 3 between 40 and 400\n",
    "for num in range(40, 401):\n",
    "    if num % 3 == 0:\n",
    "        print(num)\n"
   ]
  },
  {
   "cell_type": "code",
   "execution_count": null,
   "id": "6a6badd4-73f0-44d9-bafd-edf51a4706ae",
   "metadata": {},
   "outputs": [],
   "source": []
  },
  {
   "cell_type": "code",
   "execution_count": null,
   "id": "a052c384-25bd-45f6-bafd-ba475f4dcf68",
   "metadata": {},
   "outputs": [],
   "source": []
  }
 ],
 "metadata": {
  "kernelspec": {
   "display_name": "Python 3 (ipykernel)",
   "language": "python",
   "name": "python3"
  },
  "language_info": {
   "codemirror_mode": {
    "name": "ipython",
    "version": 3
   },
   "file_extension": ".py",
   "mimetype": "text/x-python",
   "name": "python",
   "nbconvert_exporter": "python",
   "pygments_lexer": "ipython3",
   "version": "3.12.2"
  }
 },
 "nbformat": 4,
 "nbformat_minor": 5
}
