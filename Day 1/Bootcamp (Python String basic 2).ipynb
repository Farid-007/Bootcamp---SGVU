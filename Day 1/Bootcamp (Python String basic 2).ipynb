{
 "cells": [
  {
   "cell_type": "code",
   "execution_count": 1,
   "id": "ecae084e-93b8-4c27-85bf-4371c09cb626",
   "metadata": {},
   "outputs": [],
   "source": [
    "s = \"neuron\""
   ]
  },
  {
   "cell_type": "code",
   "execution_count": 2,
   "id": "b6c68199-f20d-4bb7-ab51-17abe9bd2ed4",
   "metadata": {},
   "outputs": [
    {
     "data": {
      "text/plain": [
       "str"
      ]
     },
     "execution_count": 2,
     "metadata": {},
     "output_type": "execute_result"
    }
   ],
   "source": [
    "type(s)"
   ]
  },
  {
   "cell_type": "code",
   "execution_count": 3,
   "id": "82037a75-739f-4c7c-be83-705fe1b65348",
   "metadata": {},
   "outputs": [
    {
     "data": {
      "text/plain": [
       "'n'"
      ]
     },
     "execution_count": 3,
     "metadata": {},
     "output_type": "execute_result"
    }
   ],
   "source": [
    "s[0]"
   ]
  },
  {
   "cell_type": "code",
   "execution_count": 4,
   "id": "864ce24b-0bd0-402f-a4b5-76cb822f00da",
   "metadata": {},
   "outputs": [
    {
     "data": {
      "text/plain": [
       "'n'"
      ]
     },
     "execution_count": 4,
     "metadata": {},
     "output_type": "execute_result"
    }
   ],
   "source": [
    "s[5]"
   ]
  },
  {
   "cell_type": "code",
   "execution_count": 5,
   "id": "c5725955-3a66-4537-b83a-94db355b4ec8",
   "metadata": {},
   "outputs": [
    {
     "data": {
      "text/plain": [
       "'n'"
      ]
     },
     "execution_count": 5,
     "metadata": {},
     "output_type": "execute_result"
    }
   ],
   "source": [
    "s[-1]"
   ]
  },
  {
   "cell_type": "code",
   "execution_count": 6,
   "id": "d54c89e9-3c04-47e5-ab71-c8fdbdc034d5",
   "metadata": {},
   "outputs": [],
   "source": [
    "s1 = \"Farid\""
   ]
  },
  {
   "cell_type": "code",
   "execution_count": 7,
   "id": "4d6d7318-1503-4bce-a253-f6e7cb1d6ab0",
   "metadata": {},
   "outputs": [
    {
     "data": {
      "text/plain": [
       "'F'"
      ]
     },
     "execution_count": 7,
     "metadata": {},
     "output_type": "execute_result"
    }
   ],
   "source": [
    "s1[0]"
   ]
  },
  {
   "cell_type": "code",
   "execution_count": 8,
   "id": "c9166cc3-339f-4571-a483-457842863306",
   "metadata": {},
   "outputs": [
    {
     "data": {
      "text/plain": [
       "'d'"
      ]
     },
     "execution_count": 8,
     "metadata": {},
     "output_type": "execute_result"
    }
   ],
   "source": [
    "s1[-1]"
   ]
  },
  {
   "cell_type": "code",
   "execution_count": 9,
   "id": "62aad5da-e2ba-41ca-9eb0-e0c4ca3fe50f",
   "metadata": {},
   "outputs": [
    {
     "data": {
      "text/plain": [
       "'i'"
      ]
     },
     "execution_count": 9,
     "metadata": {},
     "output_type": "execute_result"
    }
   ],
   "source": [
    "s1[-2]"
   ]
  },
  {
   "cell_type": "code",
   "execution_count": 10,
   "id": "dda8295c-c3f4-4878-b911-3c1eb9d4990b",
   "metadata": {},
   "outputs": [],
   "source": [
    "s2 = \"this is my very first programming class's\""
   ]
  },
  {
   "cell_type": "code",
   "execution_count": 11,
   "id": "1e43fcf0-3800-4c0c-8ebb-d29d14d9b42a",
   "metadata": {},
   "outputs": [
    {
     "data": {
      "text/plain": [
       "\"this is my very first programming class's\""
      ]
     },
     "execution_count": 11,
     "metadata": {},
     "output_type": "execute_result"
    }
   ],
   "source": [
    "s2"
   ]
  },
  {
   "cell_type": "code",
   "execution_count": 12,
   "id": "e1af921d-425c-45bb-bcfc-1da69b18ce2d",
   "metadata": {},
   "outputs": [
    {
     "data": {
      "text/plain": [
       "'m'"
      ]
     },
     "execution_count": 12,
     "metadata": {},
     "output_type": "execute_result"
    }
   ],
   "source": [
    "s2[8]"
   ]
  },
  {
   "cell_type": "code",
   "execution_count": 13,
   "id": "2575ddc3-8090-4795-9453-4a93d60025ea",
   "metadata": {},
   "outputs": [
    {
     "data": {
      "text/plain": [
       "\"this is my very first programming class's\""
      ]
     },
     "execution_count": 13,
     "metadata": {},
     "output_type": "execute_result"
    }
   ],
   "source": [
    "s2"
   ]
  },
  {
   "cell_type": "code",
   "execution_count": 17,
   "id": "f94613e5-054d-49ee-997f-cc9bc91a5d3e",
   "metadata": {},
   "outputs": [
    {
     "data": {
      "text/plain": [
       "'t p'"
      ]
     },
     "execution_count": 17,
     "metadata": {},
     "output_type": "execute_result"
    }
   ],
   "source": [
    "s2 [20:23]"
   ]
  },
  {
   "cell_type": "code",
   "execution_count": 18,
   "id": "548fd191-0287-4f9a-be3f-b3230d7e4022",
   "metadata": {},
   "outputs": [
    {
     "data": {
      "text/plain": [
       "'s my very first programm'"
      ]
     },
     "execution_count": 18,
     "metadata": {},
     "output_type": "execute_result"
    }
   ],
   "source": [
    "s2[6:30]"
   ]
  },
  {
   "cell_type": "code",
   "execution_count": 19,
   "id": "4c112aad-9191-40fc-9f51-03cf877f36f9",
   "metadata": {},
   "outputs": [
    {
     "data": {
      "text/plain": [
       "'sm eyfrtporm'"
      ]
     },
     "execution_count": 19,
     "metadata": {},
     "output_type": "execute_result"
    }
   ],
   "source": [
    "s2[6:30:2]"
   ]
  },
  {
   "cell_type": "code",
   "execution_count": 20,
   "id": "24e656be-482f-4394-bf97-a7d677518169",
   "metadata": {},
   "outputs": [],
   "source": [
    "s = \"python\""
   ]
  },
  {
   "cell_type": "code",
   "execution_count": 21,
   "id": "79fd0662-e4f0-4c80-870e-73ad2ede8401",
   "metadata": {},
   "outputs": [
    {
     "data": {
      "text/plain": [
       "'python'"
      ]
     },
     "execution_count": 21,
     "metadata": {},
     "output_type": "execute_result"
    }
   ],
   "source": [
    "s[0:9:1]"
   ]
  },
  {
   "cell_type": "code",
   "execution_count": 22,
   "id": "a8d6c2f4-bd14-42e0-8721-794b65964102",
   "metadata": {},
   "outputs": [
    {
     "data": {
      "text/plain": [
       "'python'"
      ]
     },
     "execution_count": 22,
     "metadata": {},
     "output_type": "execute_result"
    }
   ],
   "source": [
    "s"
   ]
  },
  {
   "cell_type": "code",
   "execution_count": 23,
   "id": "02123528-9fc0-4676-954c-01beb09a627f",
   "metadata": {},
   "outputs": [
    {
     "data": {
      "text/plain": [
       "''"
      ]
     },
     "execution_count": 23,
     "metadata": {},
     "output_type": "execute_result"
    }
   ],
   "source": [
    "s[0:8:-1]"
   ]
  },
  {
   "cell_type": "code",
   "execution_count": 28,
   "id": "37c5caae-ae76-4880-8e24-e274d4f5a3c5",
   "metadata": {},
   "outputs": [
    {
     "data": {
      "text/plain": [
       "'nohty'"
      ]
     },
     "execution_count": 28,
     "metadata": {},
     "output_type": "execute_result"
    }
   ],
   "source": [
    "s[9:0:-1]"
   ]
  },
  {
   "cell_type": "code",
   "execution_count": 29,
   "id": "a8dcaf98-c745-4801-84a7-5e14aa9c2cb7",
   "metadata": {},
   "outputs": [
    {
     "data": {
      "text/plain": [
       "'nhy'"
      ]
     },
     "execution_count": 29,
     "metadata": {},
     "output_type": "execute_result"
    }
   ],
   "source": [
    "s[8:0:-2]"
   ]
  },
  {
   "cell_type": "code",
   "execution_count": 30,
   "id": "5080d3b5-3424-4a0a-b729-7703a7c06adc",
   "metadata": {},
   "outputs": [
    {
     "data": {
      "text/plain": [
       "'pyt'"
      ]
     },
     "execution_count": 30,
     "metadata": {},
     "output_type": "execute_result"
    }
   ],
   "source": [
    "s[:-3]"
   ]
  },
  {
   "cell_type": "code",
   "execution_count": 31,
   "id": "a9194e54-41c0-4ad5-9b72-edf01303b08b",
   "metadata": {},
   "outputs": [
    {
     "data": {
      "text/plain": [
       "'on'"
      ]
     },
     "execution_count": 31,
     "metadata": {},
     "output_type": "execute_result"
    }
   ],
   "source": [
    "s[-2:]"
   ]
  },
  {
   "cell_type": "code",
   "execution_count": 32,
   "id": "30e8e756-ee53-4198-b03f-bf78039f5cf6",
   "metadata": {},
   "outputs": [
    {
     "data": {
      "text/plain": [
       "'python'"
      ]
     },
     "execution_count": 32,
     "metadata": {},
     "output_type": "execute_result"
    }
   ],
   "source": [
    "s[::1]"
   ]
  },
  {
   "cell_type": "code",
   "execution_count": 33,
   "id": "9adfe86f-6f63-46ef-b8db-2d5a3d86ccf1",
   "metadata": {},
   "outputs": [
    {
     "data": {
      "text/plain": [
       "'nohtyp'"
      ]
     },
     "execution_count": 33,
     "metadata": {},
     "output_type": "execute_result"
    }
   ],
   "source": [
    "s[::-1]"
   ]
  },
  {
   "cell_type": "code",
   "execution_count": 34,
   "id": "8d3d1a72-2f41-4025-b086-8c236952fe69",
   "metadata": {},
   "outputs": [
    {
     "data": {
      "text/plain": [
       "'python'"
      ]
     },
     "execution_count": 34,
     "metadata": {},
     "output_type": "execute_result"
    }
   ],
   "source": [
    "s[0:50:1]"
   ]
  },
  {
   "cell_type": "code",
   "execution_count": 35,
   "id": "a7e309e5-42f9-4d79-b96b-040edc9d8ee7",
   "metadata": {},
   "outputs": [
    {
     "name": "stdout",
     "output_type": "stream",
     "text": [
      "Object `come` not found.\n"
     ]
    }
   ],
   "source": [
    "s[8:0:-1] = \"onthpy\" how s will come?"
   ]
  },
  {
   "cell_type": "code",
   "execution_count": 37,
   "id": "35e93527-7b79-46b9-872d-b059e90e471f",
   "metadata": {},
   "outputs": [],
   "source": [
    "s3 = \"Python\""
   ]
  },
  {
   "cell_type": "code",
   "execution_count": 38,
   "id": "e3d4ea3c-ba58-49fa-adb7-07947d920907",
   "metadata": {},
   "outputs": [
    {
     "data": {
      "text/plain": [
       "''"
      ]
     },
     "execution_count": 38,
     "metadata": {},
     "output_type": "execute_result"
    }
   ],
   "source": [
    "s3[-2:-7:1]"
   ]
  },
  {
   "cell_type": "code",
   "execution_count": 39,
   "id": "ec2cfdba-5e9a-4cba-a0eb-2c9d62a6116d",
   "metadata": {},
   "outputs": [
    {
     "data": {
      "text/plain": [
       "'Pyth'"
      ]
     },
     "execution_count": 39,
     "metadata": {},
     "output_type": "execute_result"
    }
   ],
   "source": [
    "s3[-7:-2:1]"
   ]
  },
  {
   "cell_type": "code",
   "execution_count": 40,
   "id": "01ad5faa-cd26-42ee-a6af-165a99756b1c",
   "metadata": {},
   "outputs": [
    {
     "data": {
      "text/plain": [
       "''"
      ]
     },
     "execution_count": 40,
     "metadata": {},
     "output_type": "execute_result"
    }
   ],
   "source": [
    "s3[4:1]"
   ]
  },
  {
   "cell_type": "code",
   "execution_count": 41,
   "id": "2df3da6b-2a23-4f21-a03b-12d5b43fd5e5",
   "metadata": {},
   "outputs": [
    {
     "data": {
      "text/plain": [
       "''"
      ]
     },
     "execution_count": 41,
     "metadata": {},
     "output_type": "execute_result"
    }
   ],
   "source": [
    "s3[-7:0:1]"
   ]
  },
  {
   "cell_type": "code",
   "execution_count": 42,
   "id": "2405035b-291c-4145-a986-eface0e35b78",
   "metadata": {},
   "outputs": [
    {
     "data": {
      "text/plain": [
       "''"
      ]
     },
     "execution_count": 42,
     "metadata": {},
     "output_type": "execute_result"
    }
   ],
   "source": [
    "s[:-1:-1]"
   ]
  },
  {
   "cell_type": "code",
   "execution_count": 43,
   "id": "cd131f49-3906-4236-871e-96e0fa93c72b",
   "metadata": {},
   "outputs": [
    {
     "data": {
      "text/plain": [
       "6"
      ]
     },
     "execution_count": 43,
     "metadata": {},
     "output_type": "execute_result"
    }
   ],
   "source": [
    "len(s)"
   ]
  },
  {
   "cell_type": "code",
   "execution_count": 44,
   "id": "b6c06b0a-9b4f-4a6d-82cb-d0056fdca8b0",
   "metadata": {},
   "outputs": [
    {
     "data": {
      "text/plain": [
       "'pythonpythonpythonpython'"
      ]
     },
     "execution_count": 44,
     "metadata": {},
     "output_type": "execute_result"
    }
   ],
   "source": [
    "s*4"
   ]
  },
  {
   "cell_type": "code",
   "execution_count": 46,
   "id": "5f12c9c6-5274-4912-821c-29ab6d6dd2ee",
   "metadata": {},
   "outputs": [
    {
     "data": {
      "text/plain": [
       "0"
      ]
     },
     "execution_count": 46,
     "metadata": {},
     "output_type": "execute_result"
    }
   ],
   "source": [
    "s.count('sum')"
   ]
  },
  {
   "cell_type": "code",
   "execution_count": 47,
   "id": "3163625a-5402-4bee-a6b4-8fd79e1476c3",
   "metadata": {},
   "outputs": [
    {
     "data": {
      "text/plain": [
       "list"
      ]
     },
     "execution_count": 47,
     "metadata": {},
     "output_type": "execute_result"
    }
   ],
   "source": [
    "type(s.split('u'))"
   ]
  },
  {
   "cell_type": "code",
   "execution_count": 48,
   "id": "b1daca4c-a4dc-4e10-a727-5dae554af894",
   "metadata": {},
   "outputs": [
    {
     "data": {
      "text/plain": [
       "['python']"
      ]
     },
     "execution_count": 48,
     "metadata": {},
     "output_type": "execute_result"
    }
   ],
   "source": [
    "s.split('u')"
   ]
  },
  {
   "cell_type": "code",
   "execution_count": 49,
   "id": "60ede9fd-af00-410a-8fd9-2e90953ed462",
   "metadata": {},
   "outputs": [],
   "source": [
    "sw = \"\"\"Samsung is a South Korean multinational conglomerate that specializes in electronics, appliances, and other consumer and industrial products\"\"\""
   ]
  },
  {
   "cell_type": "code",
   "execution_count": 52,
   "id": "8b73bc1f-b608-4948-ab0e-96b64824c8f5",
   "metadata": {},
   "outputs": [],
   "source": [
    "sw = \"Samsung is a South Korean multinational conglomerate that specializes in electronics, appliances, and other consumer and industrial products\""
   ]
  },
  {
   "cell_type": "code",
   "execution_count": 50,
   "id": "5472b822-6ed7-49f9-aa0b-9416847b3562",
   "metadata": {},
   "outputs": [
    {
     "data": {
      "text/plain": [
       "'Samsung is a South Korean multinational conglomerate that specializes in electronics, appliances, and other consumer and industrial products'"
      ]
     },
     "execution_count": 50,
     "metadata": {},
     "output_type": "execute_result"
    }
   ],
   "source": [
    "sw"
   ]
  },
  {
   "cell_type": "code",
   "execution_count": 51,
   "id": "da53e90a-31f1-4885-a4b3-f7817a6a154a",
   "metadata": {},
   "outputs": [
    {
     "data": {
      "text/plain": [
       "['Samsung',\n",
       " 'is',\n",
       " 'a',\n",
       " 'South',\n",
       " 'Korean',\n",
       " 'multinational',\n",
       " 'conglomerate',\n",
       " 'that',\n",
       " 'specializes',\n",
       " 'in',\n",
       " 'electronics,',\n",
       " 'appliances,',\n",
       " 'and',\n",
       " 'other',\n",
       " 'consumer',\n",
       " 'and',\n",
       " 'industrial',\n",
       " 'products']"
      ]
     },
     "execution_count": 51,
     "metadata": {},
     "output_type": "execute_result"
    }
   ],
   "source": [
    "sw.split(' ')"
   ]
  },
  {
   "cell_type": "code",
   "execution_count": 53,
   "id": "63d0b358-6acb-4ca0-a2c4-1ab04156bae0",
   "metadata": {},
   "outputs": [
    {
     "data": {
      "text/plain": [
       "'Samsung is a South Korean multinational conglomerate that specializes in electronics, appliances, and other consumer and industrial products'"
      ]
     },
     "execution_count": 53,
     "metadata": {},
     "output_type": "execute_result"
    }
   ],
   "source": [
    "sw"
   ]
  },
  {
   "cell_type": "code",
   "execution_count": 54,
   "id": "7e3eaf87-7bca-46b8-a8db-335cfceca005",
   "metadata": {},
   "outputs": [
    {
     "data": {
      "text/plain": [
       "'SAMSUNG IS A SOUTH KOREAN MULTINATIONAL CONGLOMERATE THAT SPECIALIZES IN ELECTRONICS, APPLIANCES, AND OTHER CONSUMER AND INDUSTRIAL PRODUCTS'"
      ]
     },
     "execution_count": 54,
     "metadata": {},
     "output_type": "execute_result"
    }
   ],
   "source": [
    "sw.upper()"
   ]
  },
  {
   "cell_type": "code",
   "execution_count": 55,
   "id": "ca7f74dd-2c99-4567-b414-800960823865",
   "metadata": {},
   "outputs": [
    {
     "data": {
      "text/plain": [
       "'samsung is a south korean multinational conglomerate that specializes in electronics, appliances, and other consumer and industrial products'"
      ]
     },
     "execution_count": 55,
     "metadata": {},
     "output_type": "execute_result"
    }
   ],
   "source": [
    "sw.lower()"
   ]
  },
  {
   "cell_type": "code",
   "execution_count": 56,
   "id": "5336db4e-4c50-4feb-a432-3db5a5bf45e8",
   "metadata": {},
   "outputs": [],
   "source": [
    "s = \"python class\""
   ]
  },
  {
   "cell_type": "code",
   "execution_count": 57,
   "id": "af119ffe-c00d-4b43-aacb-c78b79fef6f9",
   "metadata": {},
   "outputs": [
    {
     "data": {
      "text/plain": [
       "'Python Class'"
      ]
     },
     "execution_count": 57,
     "metadata": {},
     "output_type": "execute_result"
    }
   ],
   "source": [
    "s.title()"
   ]
  },
  {
   "cell_type": "code",
   "execution_count": 59,
   "id": "22aeb4dc-10e5-4419-a778-63b4de7353a2",
   "metadata": {},
   "outputs": [
    {
     "data": {
      "text/plain": [
       "'Python class'"
      ]
     },
     "execution_count": 59,
     "metadata": {},
     "output_type": "execute_result"
    }
   ],
   "source": [
    "s.capitalize()"
   ]
  },
  {
   "cell_type": "code",
   "execution_count": 61,
   "id": "0a4e3cf4-90b5-46c9-9d2c-a92d26da43f0",
   "metadata": {},
   "outputs": [],
   "source": [
    "s = \"PyThoN ClaSS\""
   ]
  },
  {
   "cell_type": "code",
   "execution_count": 62,
   "id": "052ae78a-2b8a-4e36-a5fb-6777a3a901c7",
   "metadata": {},
   "outputs": [
    {
     "data": {
      "text/plain": [
       "'pYtHOn cLAss'"
      ]
     },
     "execution_count": 62,
     "metadata": {},
     "output_type": "execute_result"
    }
   ],
   "source": [
    "s.swapcase()"
   ]
  },
  {
   "cell_type": "code",
   "execution_count": 63,
   "id": "9060662b-3f98-4982-b0c6-b8238cb4dae7",
   "metadata": {},
   "outputs": [
    {
     "data": {
      "text/plain": [
       "'SSalC NohTyP'"
      ]
     },
     "execution_count": 63,
     "metadata": {},
     "output_type": "execute_result"
    }
   ],
   "source": [
    "''.join(reversed(s))"
   ]
  },
  {
   "cell_type": "code",
   "execution_count": 64,
   "id": "9dcb7d16-0e2f-4759-917d-4fa87cf63907",
   "metadata": {},
   "outputs": [
    {
     "data": {
      "text/plain": [
       "'SSalC NohTyP'"
      ]
     },
     "execution_count": 64,
     "metadata": {},
     "output_type": "execute_result"
    }
   ],
   "source": [
    "s[::-1]"
   ]
  },
  {
   "cell_type": "code",
   "execution_count": 65,
   "id": "9dd9c57e-919d-43cb-8a53-5550226fef6b",
   "metadata": {},
   "outputs": [],
   "source": [
    "s = \"    py    th    \""
   ]
  },
  {
   "cell_type": "code",
   "execution_count": 66,
   "id": "673abef1-84e7-4e26-82f1-612e2865f90d",
   "metadata": {},
   "outputs": [
    {
     "data": {
      "text/plain": [
       "'py    th'"
      ]
     },
     "execution_count": 66,
     "metadata": {},
     "output_type": "execute_result"
    }
   ],
   "source": [
    "s.strip()"
   ]
  },
  {
   "cell_type": "code",
   "execution_count": 67,
   "id": "d7f3ecd5-0702-4df2-bc5e-fa660c6c48af",
   "metadata": {},
   "outputs": [
    {
     "data": {
      "text/plain": [
       "'py    th    '"
      ]
     },
     "execution_count": 67,
     "metadata": {},
     "output_type": "execute_result"
    }
   ],
   "source": [
    "s.lstrip()"
   ]
  },
  {
   "cell_type": "code",
   "execution_count": 68,
   "id": "8f54123e-20d8-4a34-ad64-7639a0cf6dee",
   "metadata": {},
   "outputs": [
    {
     "data": {
      "text/plain": [
       "'    py    th'"
      ]
     },
     "execution_count": 68,
     "metadata": {},
     "output_type": "execute_result"
    }
   ],
   "source": [
    "s.rstrip()"
   ]
  },
  {
   "cell_type": "code",
   "execution_count": 69,
   "id": "3eab3a64-b55c-4b26-a53a-cec4ec5d127c",
   "metadata": {},
   "outputs": [
    {
     "data": {
      "text/plain": [
       "'Payatahaoan'"
      ]
     },
     "execution_count": 69,
     "metadata": {},
     "output_type": "execute_result"
    }
   ],
   "source": [
    "\"a\".join(\"Python\")"
   ]
  },
  {
   "cell_type": "code",
   "execution_count": 70,
   "id": "d1a8ad9d-6278-4d69-9a8b-1df1c99acda9",
   "metadata": {},
   "outputs": [],
   "source": [
    "s = \"pyth\""
   ]
  },
  {
   "cell_type": "code",
   "execution_count": 71,
   "id": "882e2752-92ec-4ef0-88f9-41f746bc549f",
   "metadata": {},
   "outputs": [
    {
     "data": {
      "text/plain": [
       "'########pyth########'"
      ]
     },
     "execution_count": 71,
     "metadata": {},
     "output_type": "execute_result"
    }
   ],
   "source": [
    "s.center(20, '#')"
   ]
  },
  {
   "cell_type": "code",
   "execution_count": 72,
   "id": "cc59383c-69b1-4755-ae41-8f9007452a97",
   "metadata": {},
   "outputs": [],
   "source": [
    "s = \"python\""
   ]
  },
  {
   "cell_type": "code",
   "execution_count": 73,
   "id": "36c4a8d6-deb5-4f2d-a291-c73c70139a2b",
   "metadata": {},
   "outputs": [
    {
     "data": {
      "text/plain": [
       "False"
      ]
     },
     "execution_count": 73,
     "metadata": {},
     "output_type": "execute_result"
    }
   ],
   "source": [
    "s.isupper()"
   ]
  },
  {
   "cell_type": "code",
   "execution_count": 74,
   "id": "c9260b22-8e0a-4392-9d02-8c0fb69659e4",
   "metadata": {},
   "outputs": [],
   "source": [
    "s1 = \"PYTHON\""
   ]
  },
  {
   "cell_type": "code",
   "execution_count": 75,
   "id": "1966b5ae-b37c-46e7-8a4f-2956c182d54f",
   "metadata": {},
   "outputs": [
    {
     "data": {
      "text/plain": [
       "True"
      ]
     },
     "execution_count": 75,
     "metadata": {},
     "output_type": "execute_result"
    }
   ],
   "source": [
    "s1.isupper()"
   ]
  },
  {
   "cell_type": "code",
   "execution_count": 76,
   "id": "90e78384-d3ce-4558-b2e7-ec4d5d77698c",
   "metadata": {},
   "outputs": [
    {
     "data": {
      "text/plain": [
       "False"
      ]
     },
     "execution_count": 76,
     "metadata": {},
     "output_type": "execute_result"
    }
   ],
   "source": [
    "s1.islower()"
   ]
  },
  {
   "cell_type": "code",
   "execution_count": 77,
   "id": "303d9bb3-5f6b-4638-af4d-7aa5fe56369b",
   "metadata": {},
   "outputs": [
    {
     "data": {
      "text/plain": [
       "False"
      ]
     },
     "execution_count": 77,
     "metadata": {},
     "output_type": "execute_result"
    }
   ],
   "source": [
    "s.isspace()"
   ]
  },
  {
   "cell_type": "code",
   "execution_count": 78,
   "id": "dde2456b-ac90-4e99-8c91-156e1e124ac2",
   "metadata": {},
   "outputs": [],
   "source": [
    "s4 = \"  \""
   ]
  },
  {
   "cell_type": "code",
   "execution_count": 79,
   "id": "f585b473-ef58-441f-ad42-78a9f98b3771",
   "metadata": {},
   "outputs": [
    {
     "data": {
      "text/plain": [
       "True"
      ]
     },
     "execution_count": 79,
     "metadata": {},
     "output_type": "execute_result"
    }
   ],
   "source": [
    "s4.isspace()"
   ]
  },
  {
   "cell_type": "code",
   "execution_count": 80,
   "id": "df01d038-abab-4970-98dc-92a51899a94a",
   "metadata": {},
   "outputs": [],
   "source": [
    "s5 = \"32424\""
   ]
  },
  {
   "cell_type": "code",
   "execution_count": 81,
   "id": "c15b4daa-77fd-4ef4-a628-d014a324ca43",
   "metadata": {},
   "outputs": [
    {
     "data": {
      "text/plain": [
       "True"
      ]
     },
     "execution_count": 81,
     "metadata": {},
     "output_type": "execute_result"
    }
   ],
   "source": [
    "s5.isdigit()"
   ]
  },
  {
   "cell_type": "code",
   "execution_count": 82,
   "id": "8cac7014-4b27-4cf5-96eb-1834e7c7d580",
   "metadata": {},
   "outputs": [],
   "source": [
    "s6 = \"sf1223\""
   ]
  },
  {
   "cell_type": "code",
   "execution_count": 83,
   "id": "1f00161d-8b9c-49b2-8eee-17c2b21ea5c1",
   "metadata": {},
   "outputs": [
    {
     "data": {
      "text/plain": [
       "False"
      ]
     },
     "execution_count": 83,
     "metadata": {},
     "output_type": "execute_result"
    }
   ],
   "source": [
    "s6.isdigit()"
   ]
  },
  {
   "cell_type": "code",
   "execution_count": 84,
   "id": "dc7534d5-27e7-45d3-9847-b7390c3f53fa",
   "metadata": {},
   "outputs": [
    {
     "data": {
      "text/plain": [
       "'python'"
      ]
     },
     "execution_count": 84,
     "metadata": {},
     "output_type": "execute_result"
    }
   ],
   "source": [
    "s"
   ]
  },
  {
   "cell_type": "code",
   "execution_count": 85,
   "id": "e1becbc7-25e6-4a3e-bc90-dab8cf89c725",
   "metadata": {},
   "outputs": [
    {
     "data": {
      "text/plain": [
       "True"
      ]
     },
     "execution_count": 85,
     "metadata": {},
     "output_type": "execute_result"
    }
   ],
   "source": [
    "s.isalnum()"
   ]
  },
  {
   "cell_type": "code",
   "execution_count": 86,
   "id": "31bb1a8e-6a68-4c89-b780-9f262daaa7fa",
   "metadata": {},
   "outputs": [],
   "source": [
    "s7 = \"345hgh\""
   ]
  },
  {
   "cell_type": "code",
   "execution_count": 87,
   "id": "36a5d396-662a-4481-93c7-457c13b846de",
   "metadata": {},
   "outputs": [
    {
     "data": {
      "text/plain": [
       "False"
      ]
     },
     "execution_count": 87,
     "metadata": {},
     "output_type": "execute_result"
    }
   ],
   "source": [
    "s7.isalpha()"
   ]
  },
  {
   "cell_type": "code",
   "execution_count": 89,
   "id": "5c46758f-5d75-48b3-aa07-33f63af757e9",
   "metadata": {},
   "outputs": [
    {
     "data": {
      "text/plain": [
       "True"
      ]
     },
     "execution_count": 89,
     "metadata": {},
     "output_type": "execute_result"
    }
   ],
   "source": [
    "s7.isalnum()"
   ]
  },
  {
   "cell_type": "code",
   "execution_count": 90,
   "id": "3f97cd6f-be92-4474-a277-a9713738a35a",
   "metadata": {},
   "outputs": [
    {
     "data": {
      "text/plain": [
       "'python'"
      ]
     },
     "execution_count": 90,
     "metadata": {},
     "output_type": "execute_result"
    }
   ],
   "source": [
    "s"
   ]
  },
  {
   "cell_type": "code",
   "execution_count": 93,
   "id": "46ff94a8-68de-46b1-ade6-1c75b13cf5f2",
   "metadata": {},
   "outputs": [
    {
     "data": {
      "text/plain": [
       "False"
      ]
     },
     "execution_count": 93,
     "metadata": {},
     "output_type": "execute_result"
    }
   ],
   "source": [
    "s.startswith('s')"
   ]
  },
  {
   "cell_type": "code",
   "execution_count": 94,
   "id": "eeff5eca-1986-426f-957d-f5b74431eb16",
   "metadata": {},
   "outputs": [
    {
     "data": {
      "text/plain": [
       "False"
      ]
     },
     "execution_count": 94,
     "metadata": {},
     "output_type": "execute_result"
    }
   ],
   "source": [
    "s.startswith('f')"
   ]
  },
  {
   "cell_type": "code",
   "execution_count": 95,
   "id": "aa6e531d-62f9-4d5c-84a9-e25ace52602f",
   "metadata": {},
   "outputs": [
    {
     "data": {
      "text/plain": [
       "True"
      ]
     },
     "execution_count": 95,
     "metadata": {},
     "output_type": "execute_result"
    }
   ],
   "source": [
    "s.startswith('p')"
   ]
  },
  {
   "cell_type": "code",
   "execution_count": 97,
   "id": "3977040e-d6bb-4d9c-8d00-3ffae89f0107",
   "metadata": {},
   "outputs": [
    {
     "data": {
      "text/plain": [
       "False"
      ]
     },
     "execution_count": 97,
     "metadata": {},
     "output_type": "execute_result"
    }
   ],
   "source": [
    "s.endswith('u')"
   ]
  },
  {
   "cell_type": "code",
   "execution_count": 98,
   "id": "c10c24b6-161b-4d88-9374-6449f60bd93c",
   "metadata": {},
   "outputs": [
    {
     "data": {
      "text/plain": [
       "True"
      ]
     },
     "execution_count": 98,
     "metadata": {},
     "output_type": "execute_result"
    }
   ],
   "source": [
    "s.endswith('n')"
   ]
  },
  {
   "cell_type": "code",
   "execution_count": 99,
   "id": "c1ae0c32-5681-4893-8fb3-1a6f42755f55",
   "metadata": {},
   "outputs": [
    {
     "data": {
      "text/plain": [
       "True"
      ]
     },
     "execution_count": 99,
     "metadata": {},
     "output_type": "execute_result"
    }
   ],
   "source": [
    "s.startswith(\"\")"
   ]
  },
  {
   "cell_type": "code",
   "execution_count": 100,
   "id": "b3ac9d08-ff93-462e-8adc-2f9a5778ce9e",
   "metadata": {},
   "outputs": [
    {
     "data": {
      "text/plain": [
       "True"
      ]
     },
     "execution_count": 100,
     "metadata": {},
     "output_type": "execute_result"
    }
   ],
   "source": [
    "s.isascii()"
   ]
  },
  {
   "cell_type": "code",
   "execution_count": 101,
   "id": "151c551d-a90e-4bbc-9bce-61223b516a04",
   "metadata": {},
   "outputs": [
    {
     "data": {
      "text/plain": [
       "True"
      ]
     },
     "execution_count": 101,
     "metadata": {},
     "output_type": "execute_result"
    }
   ],
   "source": [
    "s = 'python123'\n",
    "\n",
    "s.isalnum()"
   ]
  },
  {
   "cell_type": "code",
   "execution_count": 103,
   "id": "d5728a7a-957f-41c6-ba19-a95ca5aece99",
   "metadata": {},
   "outputs": [
    {
     "data": {
      "text/plain": [
       "False"
      ]
     },
     "execution_count": 103,
     "metadata": {},
     "output_type": "execute_result"
    }
   ],
   "source": [
    "s =' 5 '\n",
    "s.isspace()"
   ]
  },
  {
   "cell_type": "code",
   "execution_count": 104,
   "id": "6b23c928-940d-4ba6-a923-1f5f36f8f4bf",
   "metadata": {},
   "outputs": [],
   "source": [
    "s = \" 6    \""
   ]
  },
  {
   "cell_type": "code",
   "execution_count": 105,
   "id": "658bbc27-cdfb-4ece-8bc4-53ada481b881",
   "metadata": {},
   "outputs": [
    {
     "data": {
      "text/plain": [
       "False"
      ]
     },
     "execution_count": 105,
     "metadata": {},
     "output_type": "execute_result"
    }
   ],
   "source": [
    "s.isspace()"
   ]
  },
  {
   "cell_type": "code",
   "execution_count": 106,
   "id": "b1a5be5a-d179-4c2b-9ecf-14e22093f412",
   "metadata": {},
   "outputs": [
    {
     "data": {
      "text/plain": [
       "False"
      ]
     },
     "execution_count": 106,
     "metadata": {},
     "output_type": "execute_result"
    }
   ],
   "source": [
    "s.isdigit()"
   ]
  },
  {
   "cell_type": "code",
   "execution_count": 107,
   "id": "4d4832aa-d45c-49ac-a87d-d3379a543ba4",
   "metadata": {},
   "outputs": [],
   "source": [
    "s1 = \"fasfdas345fdsa\""
   ]
  },
  {
   "cell_type": "code",
   "execution_count": 108,
   "id": "38ae79de-425f-4757-9864-d8dc3034c1e9",
   "metadata": {},
   "outputs": [
    {
     "data": {
      "text/plain": [
       "False"
      ]
     },
     "execution_count": 108,
     "metadata": {},
     "output_type": "execute_result"
    }
   ],
   "source": [
    "s1.isnumeric()"
   ]
  },
  {
   "cell_type": "code",
   "execution_count": 109,
   "id": "abe17752-61e5-49d4-a113-55975ec1bdff",
   "metadata": {},
   "outputs": [],
   "source": [
    "s2 = \"345432 3455 3453\""
   ]
  },
  {
   "cell_type": "code",
   "execution_count": 110,
   "id": "2841ecde-c555-4d10-bc9d-7836e416500d",
   "metadata": {},
   "outputs": [
    {
     "data": {
      "text/plain": [
       "False"
      ]
     },
     "execution_count": 110,
     "metadata": {},
     "output_type": "execute_result"
    }
   ],
   "source": [
    "s2.isnumeric()"
   ]
  },
  {
   "cell_type": "code",
   "execution_count": 111,
   "id": "45e9f9e8-097c-4133-9c49-bdc2c8705dae",
   "metadata": {},
   "outputs": [
    {
     "data": {
      "text/plain": [
       "False"
      ]
     },
     "execution_count": 111,
     "metadata": {},
     "output_type": "execute_result"
    }
   ],
   "source": [
    "s2.isdigit()"
   ]
  },
  {
   "cell_type": "code",
   "execution_count": 112,
   "id": "d3ccfbb1-2b48-4507-ba5a-4cf570fcf833",
   "metadata": {},
   "outputs": [],
   "source": [
    "s = 56"
   ]
  },
  {
   "cell_type": "code",
   "execution_count": 113,
   "id": "4c8a15fb-28a3-409d-beb3-6a380a1fbd1f",
   "metadata": {},
   "outputs": [],
   "source": [
    "s = \"pyth\""
   ]
  },
  {
   "cell_type": "code",
   "execution_count": 114,
   "id": "2366d4e6-4336-4a9d-b2d5-9cd095cbd4bd",
   "metadata": {},
   "outputs": [
    {
     "data": {
      "text/plain": [
       "<reversed at 0x1bea1f99c60>"
      ]
     },
     "execution_count": 114,
     "metadata": {},
     "output_type": "execute_result"
    }
   ],
   "source": [
    "reversed(s)"
   ]
  },
  {
   "cell_type": "code",
   "execution_count": 115,
   "id": "38430fff-307b-4034-9db9-e20825fd0c13",
   "metadata": {},
   "outputs": [
    {
     "data": {
      "text/plain": [
       "'pdydtdhdodn'"
      ]
     },
     "execution_count": 115,
     "metadata": {},
     "output_type": "execute_result"
    }
   ],
   "source": [
    "'d'.join(\"python\")"
   ]
  },
  {
   "cell_type": "code",
   "execution_count": 116,
   "id": "be2cfe95-4623-40d3-8a18-cc5e608dae42",
   "metadata": {},
   "outputs": [],
   "source": [
    "s = 'python\\tclass\\tprogramm'"
   ]
  },
  {
   "cell_type": "code",
   "execution_count": 118,
   "id": "c1b106c1-ef6e-42ee-9249-5829fc8e2d33",
   "metadata": {},
   "outputs": [
    {
     "data": {
      "text/plain": [
       "'python  class   programm'"
      ]
     },
     "execution_count": 118,
     "metadata": {},
     "output_type": "execute_result"
    }
   ],
   "source": [
    "s.expandtabs()"
   ]
  },
  {
   "cell_type": "code",
   "execution_count": 119,
   "id": "15db8b0a-281f-4236-94e0-70dba291354f",
   "metadata": {},
   "outputs": [
    {
     "data": {
      "text/plain": [
       "'hhe     gge     hh'"
      ]
     },
     "execution_count": 119,
     "metadata": {},
     "output_type": "execute_result"
    }
   ],
   "source": [
    "s = \"hhe\\tgge\\thh\"\n",
    "s.expandtabs()"
   ]
  },
  {
   "cell_type": "code",
   "execution_count": null,
   "id": "7baf22ea-fca5-4896-9805-2aff51fc3804",
   "metadata": {},
   "outputs": [],
   "source": []
  }
 ],
 "metadata": {
  "kernelspec": {
   "display_name": "Python 3 (ipykernel)",
   "language": "python",
   "name": "python3"
  },
  "language_info": {
   "codemirror_mode": {
    "name": "ipython",
    "version": 3
   },
   "file_extension": ".py",
   "mimetype": "text/x-python",
   "name": "python",
   "nbconvert_exporter": "python",
   "pygments_lexer": "ipython3",
   "version": "3.12.2"
  }
 },
 "nbformat": 4,
 "nbformat_minor": 5
}
