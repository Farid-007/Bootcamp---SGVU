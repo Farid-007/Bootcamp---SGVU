{
 "cells": [
  {
   "cell_type": "code",
   "execution_count": 1,
   "id": "bf4bc2c5-88ca-4daa-aabc-76e07027a84e",
   "metadata": {},
   "outputs": [],
   "source": [
    "a = 8"
   ]
  },
  {
   "cell_type": "code",
   "execution_count": 2,
   "id": "3cb270d0-49e7-4d42-9241-bcad6a708353",
   "metadata": {},
   "outputs": [
    {
     "data": {
      "text/plain": [
       "8"
      ]
     },
     "execution_count": 2,
     "metadata": {},
     "output_type": "execute_result"
    }
   ],
   "source": [
    "a"
   ]
  },
  {
   "cell_type": "code",
   "execution_count": 3,
   "id": "34d74924-983c-4e4f-977b-471f9f0f3ea4",
   "metadata": {},
   "outputs": [
    {
     "data": {
      "text/plain": [
       "28"
      ]
     },
     "execution_count": 3,
     "metadata": {},
     "output_type": "execute_result"
    }
   ],
   "source": [
    "a + 20"
   ]
  },
  {
   "cell_type": "code",
   "execution_count": 4,
   "id": "06a26013-e959-4c75-970b-ead445141d3d",
   "metadata": {},
   "outputs": [
    {
     "data": {
      "text/plain": [
       "int"
      ]
     },
     "execution_count": 4,
     "metadata": {},
     "output_type": "execute_result"
    }
   ],
   "source": [
    "type(a)"
   ]
  },
  {
   "cell_type": "code",
   "execution_count": 6,
   "id": "3f50cac7-8f28-45f4-8175-35fbd2e1648c",
   "metadata": {},
   "outputs": [],
   "source": [
    "s = \"Farid\""
   ]
  },
  {
   "cell_type": "code",
   "execution_count": 7,
   "id": "2f2e5be5-675c-4023-b32a-937c6045a72b",
   "metadata": {},
   "outputs": [
    {
     "data": {
      "text/plain": [
       "str"
      ]
     },
     "execution_count": 7,
     "metadata": {},
     "output_type": "execute_result"
    }
   ],
   "source": [
    "type(s)"
   ]
  },
  {
   "cell_type": "code",
   "execution_count": 8,
   "id": "ae489956-ef09-4b15-a9d0-93583e0386d5",
   "metadata": {},
   "outputs": [],
   "source": [
    "b = 56.56"
   ]
  },
  {
   "cell_type": "code",
   "execution_count": 9,
   "id": "ff69a86c-9a6e-42d2-89dc-ee7410f5004a",
   "metadata": {},
   "outputs": [
    {
     "data": {
      "text/plain": [
       "float"
      ]
     },
     "execution_count": 9,
     "metadata": {},
     "output_type": "execute_result"
    }
   ],
   "source": [
    "type(b)"
   ]
  },
  {
   "cell_type": "code",
   "execution_count": 10,
   "id": "f7ff75f0-50c1-4b4a-aaf4-7c94eb562893",
   "metadata": {},
   "outputs": [],
   "source": [
    "s = \"Farid\""
   ]
  },
  {
   "cell_type": "code",
   "execution_count": 11,
   "id": "fe482b9a-3317-43da-838e-47cc993da460",
   "metadata": {},
   "outputs": [
    {
     "data": {
      "text/plain": [
       "str"
      ]
     },
     "execution_count": 11,
     "metadata": {},
     "output_type": "execute_result"
    }
   ],
   "source": [
    "type(s)"
   ]
  },
  {
   "cell_type": "code",
   "execution_count": 12,
   "id": "d59f7a7d-d5ad-40f3-b849-318771de0947",
   "metadata": {},
   "outputs": [],
   "source": [
    "s1 = 'sgaiguydsi'"
   ]
  },
  {
   "cell_type": "code",
   "execution_count": 13,
   "id": "1058ae83-1787-4d0c-afd2-6943d9eb79c1",
   "metadata": {},
   "outputs": [
    {
     "data": {
      "text/plain": [
       "str"
      ]
     },
     "execution_count": 13,
     "metadata": {},
     "output_type": "execute_result"
    }
   ],
   "source": [
    "type(s1)"
   ]
  },
  {
   "cell_type": "code",
   "execution_count": 24,
   "id": "7c292063-9b79-480a-9323-c36b0922250c",
   "metadata": {},
   "outputs": [],
   "source": [
    "s = \"Haidar\""
   ]
  },
  {
   "cell_type": "code",
   "execution_count": 15,
   "id": "7b5ab434-bab8-4399-b0ca-3168ef3ff21e",
   "metadata": {},
   "outputs": [],
   "source": [
    "S = \"Quaiser\""
   ]
  },
  {
   "cell_type": "code",
   "execution_count": 16,
   "id": "5fd3aae2-bb93-41b4-96a6-2c32257c7495",
   "metadata": {},
   "outputs": [
    {
     "data": {
      "text/plain": [
       "'Farid'"
      ]
     },
     "execution_count": 16,
     "metadata": {},
     "output_type": "execute_result"
    }
   ],
   "source": [
    "s"
   ]
  },
  {
   "cell_type": "code",
   "execution_count": 17,
   "id": "c2332b17-d991-4499-8c83-31042fef0f85",
   "metadata": {},
   "outputs": [
    {
     "data": {
      "text/plain": [
       "'Quaiser'"
      ]
     },
     "execution_count": 17,
     "metadata": {},
     "output_type": "execute_result"
    }
   ],
   "source": [
    "S"
   ]
  },
  {
   "cell_type": "code",
   "execution_count": 18,
   "id": "7424142a-83fc-4bb4-ac27-913dd1e15e78",
   "metadata": {},
   "outputs": [],
   "source": [
    "int = 1"
   ]
  },
  {
   "cell_type": "code",
   "execution_count": 19,
   "id": "1abf91e8-a7a2-4539-b943-3c627460113e",
   "metadata": {},
   "outputs": [
    {
     "data": {
      "text/plain": [
       "1"
      ]
     },
     "execution_count": 19,
     "metadata": {},
     "output_type": "execute_result"
    }
   ],
   "source": [
    "int"
   ]
  },
  {
   "cell_type": "code",
   "execution_count": 20,
   "id": "23f0f2f0-205c-40ba-9942-69962ad79850",
   "metadata": {},
   "outputs": [
    {
     "ename": "SyntaxError",
     "evalue": "invalid syntax (3053433091.py, line 1)",
     "output_type": "error",
     "traceback": [
      "\u001b[1;36m  Cell \u001b[1;32mIn[20], line 1\u001b[1;36m\u001b[0m\n\u001b[1;33m    s% = \"fsfsfs\"\u001b[0m\n\u001b[1;37m       ^\u001b[0m\n\u001b[1;31mSyntaxError\u001b[0m\u001b[1;31m:\u001b[0m invalid syntax\n"
     ]
    }
   ],
   "source": [
    "s% = \"fsfsfs\""
   ]
  },
  {
   "cell_type": "code",
   "execution_count": 21,
   "id": "d952ad09-2cf9-42df-ae37-845a0f9bcda7",
   "metadata": {},
   "outputs": [
    {
     "ename": "SyntaxError",
     "evalue": "invalid syntax (2322231855.py, line 1)",
     "output_type": "error",
     "traceback": [
      "\u001b[1;36m  Cell \u001b[1;32mIn[21], line 1\u001b[1;36m\u001b[0m\n\u001b[1;33m    s% = \"fddf\"\u001b[0m\n\u001b[1;37m       ^\u001b[0m\n\u001b[1;31mSyntaxError\u001b[0m\u001b[1;31m:\u001b[0m invalid syntax\n"
     ]
    }
   ],
   "source": [
    "s% = \"fddf\""
   ]
  },
  {
   "cell_type": "code",
   "execution_count": 22,
   "id": "05ab9858-b2cc-4596-bc39-68e879e1d3b1",
   "metadata": {},
   "outputs": [
    {
     "data": {
      "text/plain": [
       "str"
      ]
     },
     "execution_count": 22,
     "metadata": {},
     "output_type": "execute_result"
    }
   ],
   "source": [
    "type(s)"
   ]
  },
  {
   "cell_type": "code",
   "execution_count": 25,
   "id": "d9c7069c-85d6-4a86-84b9-6d4fe7c5ce4c",
   "metadata": {},
   "outputs": [
    {
     "name": "stdout",
     "output_type": "stream",
     "text": [
      "Haidar\n"
     ]
    }
   ],
   "source": [
    "print(s)"
   ]
  },
  {
   "cell_type": "code",
   "execution_count": 26,
   "id": "dc4a8c37-dcae-4958-9ff0-ddefe24ea589",
   "metadata": {},
   "outputs": [],
   "source": [
    "b = True"
   ]
  },
  {
   "cell_type": "code",
   "execution_count": 27,
   "id": "d72f720e-0d08-44c0-890d-232a85b62af1",
   "metadata": {},
   "outputs": [
    {
     "data": {
      "text/plain": [
       "True"
      ]
     },
     "execution_count": 27,
     "metadata": {},
     "output_type": "execute_result"
    }
   ],
   "source": [
    "b"
   ]
  },
  {
   "cell_type": "code",
   "execution_count": 28,
   "id": "1cac64b4-c2ad-4f07-b36b-f90f65a56720",
   "metadata": {},
   "outputs": [],
   "source": [
    "b1 = False"
   ]
  },
  {
   "cell_type": "code",
   "execution_count": 29,
   "id": "6ecbfae6-3a91-4998-a5a9-091b4f22cfb2",
   "metadata": {},
   "outputs": [
    {
     "data": {
      "text/plain": [
       "False"
      ]
     },
     "execution_count": 29,
     "metadata": {},
     "output_type": "execute_result"
    }
   ],
   "source": [
    "b1"
   ]
  },
  {
   "cell_type": "code",
   "execution_count": 30,
   "id": "25e5fbe8-9e81-4adb-93ed-55891a4d0f70",
   "metadata": {},
   "outputs": [
    {
     "data": {
      "text/plain": [
       "1"
      ]
     },
     "execution_count": 30,
     "metadata": {},
     "output_type": "execute_result"
    }
   ],
   "source": [
    "True + False"
   ]
  },
  {
   "cell_type": "code",
   "execution_count": 31,
   "id": "1cedf088-0a67-49ab-a4ef-f5b04ae4a4b6",
   "metadata": {},
   "outputs": [
    {
     "data": {
      "text/plain": [
       "0"
      ]
     },
     "execution_count": 31,
     "metadata": {},
     "output_type": "execute_result"
    }
   ],
   "source": [
    "False - False"
   ]
  },
  {
   "cell_type": "code",
   "execution_count": 32,
   "id": "e849fc34-69b8-4901-8df4-afb5398fb94f",
   "metadata": {},
   "outputs": [
    {
     "data": {
      "text/plain": [
       "1"
      ]
     },
     "execution_count": 32,
     "metadata": {},
     "output_type": "execute_result"
    }
   ],
   "source": [
    "True * True"
   ]
  },
  {
   "cell_type": "code",
   "execution_count": 33,
   "id": "49f19e8e-c7a8-46b4-a8f6-e5263fe0311d",
   "metadata": {},
   "outputs": [],
   "source": [
    "c = 7 + 6j"
   ]
  },
  {
   "cell_type": "code",
   "execution_count": 34,
   "id": "400c9e91-bd91-41c0-ad95-83fbb5bf674c",
   "metadata": {},
   "outputs": [
    {
     "data": {
      "text/plain": [
       "complex"
      ]
     },
     "execution_count": 34,
     "metadata": {},
     "output_type": "execute_result"
    }
   ],
   "source": [
    "type(c)"
   ]
  },
  {
   "cell_type": "code",
   "execution_count": 35,
   "id": "faeee553-8dc9-4801-972e-eda98f01707f",
   "metadata": {},
   "outputs": [
    {
     "data": {
      "text/plain": [
       "7.0"
      ]
     },
     "execution_count": 35,
     "metadata": {},
     "output_type": "execute_result"
    }
   ],
   "source": [
    "c.real"
   ]
  },
  {
   "cell_type": "code",
   "execution_count": 36,
   "id": "aea5c47f-b863-4c10-8709-71f3f419204a",
   "metadata": {},
   "outputs": [
    {
     "data": {
      "text/plain": [
       "6.0"
      ]
     },
     "execution_count": 36,
     "metadata": {},
     "output_type": "execute_result"
    }
   ],
   "source": [
    "c.imag"
   ]
  },
  {
   "cell_type": "code",
   "execution_count": 37,
   "id": "8ac37997-3ad9-4361-8b1c-6157ea72a800",
   "metadata": {},
   "outputs": [
    {
     "data": {
      "text/plain": [
       "'Haidar'"
      ]
     },
     "execution_count": 37,
     "metadata": {},
     "output_type": "execute_result"
    }
   ],
   "source": [
    "s"
   ]
  },
  {
   "cell_type": "code",
   "execution_count": 38,
   "id": "f973ee21-4cd3-4c76-bfc3-9115d85ff22d",
   "metadata": {},
   "outputs": [
    {
     "ename": "TypeError",
     "evalue": "can only concatenate str (not \"int\") to str",
     "output_type": "error",
     "traceback": [
      "\u001b[1;31m---------------------------------------------------------------------------\u001b[0m",
      "\u001b[1;31mTypeError\u001b[0m                                 Traceback (most recent call last)",
      "Cell \u001b[1;32mIn[38], line 1\u001b[0m\n\u001b[1;32m----> 1\u001b[0m \u001b[43ms\u001b[49m\u001b[43m \u001b[49m\u001b[38;5;241;43m+\u001b[39;49m\u001b[43m \u001b[49m\u001b[38;5;241;43m3\u001b[39;49m\n",
      "\u001b[1;31mTypeError\u001b[0m: can only concatenate str (not \"int\") to str"
     ]
    }
   ],
   "source": [
    "s + 3"
   ]
  },
  {
   "cell_type": "code",
   "execution_count": 39,
   "id": "58aae7b9-e570-47a8-b8f8-259179659806",
   "metadata": {},
   "outputs": [
    {
     "data": {
      "text/plain": [
       "'Haidar3'"
      ]
     },
     "execution_count": 39,
     "metadata": {},
     "output_type": "execute_result"
    }
   ],
   "source": [
    "s + \"3\""
   ]
  },
  {
   "cell_type": "code",
   "execution_count": 40,
   "id": "7f1db24c-03e0-40dd-9310-976ef2283fb5",
   "metadata": {},
   "outputs": [
    {
     "data": {
      "text/plain": [
       "'Haidar3'"
      ]
     },
     "execution_count": 40,
     "metadata": {},
     "output_type": "execute_result"
    }
   ],
   "source": [
    "s + str(3)"
   ]
  },
  {
   "cell_type": "code",
   "execution_count": 41,
   "id": "e2421bf5-69d0-429c-a014-c97edad482b8",
   "metadata": {},
   "outputs": [],
   "source": [
    "student = \"neuron\""
   ]
  },
  {
   "cell_type": "code",
   "execution_count": 42,
   "id": "4099b4c3-e3f2-4cb7-a155-11641786fab0",
   "metadata": {},
   "outputs": [
    {
     "name": "stdout",
     "output_type": "stream",
     "text": [
      "neuron\n"
     ]
    }
   ],
   "source": [
    "print(student)"
   ]
  },
  {
   "cell_type": "code",
   "execution_count": null,
   "id": "e3a363bf-c99b-49fc-88c4-e02417419aac",
   "metadata": {},
   "outputs": [],
   "source": []
  }
 ],
 "metadata": {
  "kernelspec": {
   "display_name": "Python 3 (ipykernel)",
   "language": "python",
   "name": "python3"
  },
  "language_info": {
   "codemirror_mode": {
    "name": "ipython",
    "version": 3
   },
   "file_extension": ".py",
   "mimetype": "text/x-python",
   "name": "python",
   "nbconvert_exporter": "python",
   "pygments_lexer": "ipython3",
   "version": "3.12.2"
  }
 },
 "nbformat": 4,
 "nbformat_minor": 5
}
