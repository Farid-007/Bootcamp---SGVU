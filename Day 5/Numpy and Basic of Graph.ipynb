{
 "cells": [
  {
   "cell_type": "markdown",
   "id": "801bf9f5-364f-4b28-9f1b-783ff99e908d",
   "metadata": {},
   "source": [
    "# Numpy and Basic of Graph"
   ]
  },
  {
   "cell_type": "code",
   "execution_count": 1,
   "id": "83b1d2f3-e7db-4fa8-bf4d-8f650de5c080",
   "metadata": {},
   "outputs": [],
   "source": [
    "import numpy as np"
   ]
  },
  {
   "cell_type": "code",
   "execution_count": 2,
   "id": "12024219-e5c3-42a7-afcd-8dad1c637db4",
   "metadata": {},
   "outputs": [],
   "source": [
    "l = [1,2,3,4,5,6]"
   ]
  },
  {
   "cell_type": "code",
   "execution_count": 3,
   "id": "e58e8305-ddec-4cd2-8da3-24dbf9d732c9",
   "metadata": {},
   "outputs": [
    {
     "data": {
      "text/plain": [
       "array([1, 2, 3, 4, 5, 6])"
      ]
     },
     "execution_count": 3,
     "metadata": {},
     "output_type": "execute_result"
    }
   ],
   "source": [
    "np.array(l)"
   ]
  },
  {
   "cell_type": "code",
   "execution_count": 4,
   "id": "06737d2b-316b-457b-a1dd-9eb39a17ee20",
   "metadata": {},
   "outputs": [],
   "source": [
    "l1= [4,5,6,7,\"python\",34,565,True]"
   ]
  },
  {
   "cell_type": "code",
   "execution_count": 5,
   "id": "0124c064-9553-433c-9133-e8c0c0f7f5b2",
   "metadata": {},
   "outputs": [],
   "source": [
    "a1 = np.array(l1)"
   ]
  },
  {
   "cell_type": "code",
   "execution_count": 6,
   "id": "5bf7e011-6ca7-4a59-9919-bca850336466",
   "metadata": {},
   "outputs": [
    {
     "data": {
      "text/plain": [
       "array(['4', '5', '6', '7', 'python', '34', '565', 'True'], dtype='<U11')"
      ]
     },
     "execution_count": 6,
     "metadata": {},
     "output_type": "execute_result"
    }
   ],
   "source": [
    "a1"
   ]
  },
  {
   "cell_type": "code",
   "execution_count": 7,
   "id": "8aa416fa-a08b-48cd-bb1d-de2043c73781",
   "metadata": {},
   "outputs": [],
   "source": [
    "a2 = np.array([[1,2,3], [4,5,6]])"
   ]
  },
  {
   "cell_type": "code",
   "execution_count": 8,
   "id": "e4794112-845c-455b-b194-344c17241e97",
   "metadata": {},
   "outputs": [
    {
     "data": {
      "text/plain": [
       "array([[1, 2, 3],\n",
       "       [4, 5, 6]])"
      ]
     },
     "execution_count": 8,
     "metadata": {},
     "output_type": "execute_result"
    }
   ],
   "source": [
    "a2"
   ]
  },
  {
   "cell_type": "code",
   "execution_count": 9,
   "id": "7c331b34-9920-4d79-b7db-d305e3bd3e18",
   "metadata": {},
   "outputs": [],
   "source": [
    "a3 = np.array([[[1,2,3], [4,5,6], [7,8,9]]])"
   ]
  },
  {
   "cell_type": "code",
   "execution_count": 10,
   "id": "09ab9e29-fad6-4491-83bb-d4b5ae1a2e6e",
   "metadata": {},
   "outputs": [
    {
     "data": {
      "text/plain": [
       "array([[[1, 2, 3],\n",
       "        [4, 5, 6],\n",
       "        [7, 8, 9]]])"
      ]
     },
     "execution_count": 10,
     "metadata": {},
     "output_type": "execute_result"
    }
   ],
   "source": [
    "a3"
   ]
  },
  {
   "cell_type": "code",
   "execution_count": 11,
   "id": "4dfe46d3-f6cf-4ea1-a830-4730320546ba",
   "metadata": {},
   "outputs": [
    {
     "data": {
      "text/plain": [
       "1"
      ]
     },
     "execution_count": 11,
     "metadata": {},
     "output_type": "execute_result"
    }
   ],
   "source": [
    "a1.ndim"
   ]
  },
  {
   "cell_type": "code",
   "execution_count": 12,
   "id": "8d5ef98c-9a1d-4f6e-951d-d1a49c9040f5",
   "metadata": {},
   "outputs": [
    {
     "data": {
      "text/plain": [
       "2"
      ]
     },
     "execution_count": 12,
     "metadata": {},
     "output_type": "execute_result"
    }
   ],
   "source": [
    "a2.ndim"
   ]
  },
  {
   "cell_type": "code",
   "execution_count": 13,
   "id": "73ed9313-7596-47ec-a673-92cde7896e41",
   "metadata": {},
   "outputs": [
    {
     "data": {
      "text/plain": [
       "3"
      ]
     },
     "execution_count": 13,
     "metadata": {},
     "output_type": "execute_result"
    }
   ],
   "source": [
    "a3.ndim"
   ]
  },
  {
   "cell_type": "code",
   "execution_count": 14,
   "id": "2f7a2f36-0d64-4e38-a65d-d6aa5115c6da",
   "metadata": {},
   "outputs": [
    {
     "data": {
      "text/plain": [
       "8"
      ]
     },
     "execution_count": 14,
     "metadata": {},
     "output_type": "execute_result"
    }
   ],
   "source": [
    "a1.size"
   ]
  },
  {
   "cell_type": "code",
   "execution_count": 15,
   "id": "fd2435f0-ca99-4792-bb3a-b02cedb38b4f",
   "metadata": {},
   "outputs": [
    {
     "data": {
      "text/plain": [
       "6"
      ]
     },
     "execution_count": 15,
     "metadata": {},
     "output_type": "execute_result"
    }
   ],
   "source": [
    "a2.size"
   ]
  },
  {
   "cell_type": "code",
   "execution_count": 16,
   "id": "3db02420-1bd5-4079-aee1-577bd5d5b3e0",
   "metadata": {},
   "outputs": [
    {
     "data": {
      "text/plain": [
       "9"
      ]
     },
     "execution_count": 16,
     "metadata": {},
     "output_type": "execute_result"
    }
   ],
   "source": [
    "a3.size"
   ]
  },
  {
   "cell_type": "code",
   "execution_count": 17,
   "id": "1c2b2639-eb23-4cff-b2f9-19947aa6eab2",
   "metadata": {},
   "outputs": [
    {
     "data": {
      "text/plain": [
       "(8,)"
      ]
     },
     "execution_count": 17,
     "metadata": {},
     "output_type": "execute_result"
    }
   ],
   "source": [
    "a1.shape"
   ]
  },
  {
   "cell_type": "code",
   "execution_count": 18,
   "id": "d6679a90-c197-406d-9d13-be088bb80d0d",
   "metadata": {},
   "outputs": [
    {
     "data": {
      "text/plain": [
       "(2, 3)"
      ]
     },
     "execution_count": 18,
     "metadata": {},
     "output_type": "execute_result"
    }
   ],
   "source": [
    "a2.shape"
   ]
  },
  {
   "cell_type": "code",
   "execution_count": 19,
   "id": "2a776b50-726c-40b1-976e-ef9d2bd61888",
   "metadata": {},
   "outputs": [
    {
     "data": {
      "text/plain": [
       "(1, 3, 3)"
      ]
     },
     "execution_count": 19,
     "metadata": {},
     "output_type": "execute_result"
    }
   ],
   "source": [
    "a3.shape"
   ]
  },
  {
   "cell_type": "code",
   "execution_count": 20,
   "id": "68f346fc-82c7-44eb-b9a9-4e44945505cd",
   "metadata": {},
   "outputs": [
    {
     "data": {
      "text/plain": [
       "array([[43, 25, 46,  5],\n",
       "       [38, 34, 16, 48],\n",
       "       [24, 27, 35, 33]])"
      ]
     },
     "execution_count": 20,
     "metadata": {},
     "output_type": "execute_result"
    }
   ],
   "source": [
    "np.random.randint(2,50,(3,4))"
   ]
  },
  {
   "cell_type": "code",
   "execution_count": 21,
   "id": "0e882c18-5739-4ab7-909f-1e3729ac814b",
   "metadata": {},
   "outputs": [
    {
     "data": {
      "text/plain": [
       "array([[[41, 40, 27, 27],\n",
       "        [15, 21, 27, 42],\n",
       "        [21, 18, 40, 14]],\n",
       "\n",
       "       [[43, 38, 16, 44],\n",
       "        [22, 21,  5, 13],\n",
       "        [37, 43, 34, 39]]])"
      ]
     },
     "execution_count": 21,
     "metadata": {},
     "output_type": "execute_result"
    }
   ],
   "source": [
    "np.random.randint(2,50,(2,3,4))"
   ]
  },
  {
   "cell_type": "code",
   "execution_count": 22,
   "id": "e2099f6c-5905-439f-b5fa-808f941243d2",
   "metadata": {},
   "outputs": [
    {
     "data": {
      "text/plain": [
       "array([[0.23158579, 0.77422619, 0.50494292, 0.54622802],\n",
       "       [0.73236741, 0.4339853 , 0.52271384, 0.82663114],\n",
       "       [0.58943353, 0.25052608, 0.24380165, 0.67920874],\n",
       "       [0.67327199, 0.54765214, 0.19843325, 0.06257514],\n",
       "       [0.22520651, 0.97531733, 0.42961081, 0.80238725]])"
      ]
     },
     "execution_count": 22,
     "metadata": {},
     "output_type": "execute_result"
    }
   ],
   "source": [
    "np.random.rand(5,4)"
   ]
  },
  {
   "cell_type": "code",
   "execution_count": 23,
   "id": "06070f0e-332d-45cb-b3e2-998aa079b98c",
   "metadata": {},
   "outputs": [],
   "source": [
    "a4 = np.random.randn(4,4)"
   ]
  },
  {
   "cell_type": "code",
   "execution_count": 24,
   "id": "038b6304-cfba-477b-b089-1547e1c47993",
   "metadata": {},
   "outputs": [
    {
     "data": {
      "text/plain": [
       "array([[-0.62451964,  0.38624685,  0.25789902,  0.32779511],\n",
       "       [ 1.07219242,  0.41878358,  0.27582083, -0.76226173],\n",
       "       [ 1.99661659,  0.66677575,  1.46873483,  0.04805775],\n",
       "       [ 1.51076832, -0.73832866, -0.71160851,  0.34361173]])"
      ]
     },
     "execution_count": 24,
     "metadata": {},
     "output_type": "execute_result"
    }
   ],
   "source": [
    "a4"
   ]
  },
  {
   "cell_type": "code",
   "execution_count": 25,
   "id": "6dd38cdc-ea75-4f74-a5d5-7135ce4d4b6b",
   "metadata": {},
   "outputs": [
    {
     "data": {
      "text/plain": [
       "array([[-0.62451964,  0.38624685,  0.25789902,  0.32779511,  1.07219242,\n",
       "         0.41878358,  0.27582083, -0.76226173],\n",
       "       [ 1.99661659,  0.66677575,  1.46873483,  0.04805775,  1.51076832,\n",
       "        -0.73832866, -0.71160851,  0.34361173]])"
      ]
     },
     "execution_count": 25,
     "metadata": {},
     "output_type": "execute_result"
    }
   ],
   "source": [
    "a4.reshape(2,8)"
   ]
  },
  {
   "cell_type": "code",
   "execution_count": 26,
   "id": "3f419585-fbc4-4d6e-85b6-9b1a74cf5b50",
   "metadata": {},
   "outputs": [
    {
     "data": {
      "text/plain": [
       "array([[-0.62451964,  0.38624685],\n",
       "       [ 0.25789902,  0.32779511],\n",
       "       [ 1.07219242,  0.41878358],\n",
       "       [ 0.27582083, -0.76226173],\n",
       "       [ 1.99661659,  0.66677575],\n",
       "       [ 1.46873483,  0.04805775],\n",
       "       [ 1.51076832, -0.73832866],\n",
       "       [-0.71160851,  0.34361173]])"
      ]
     },
     "execution_count": 26,
     "metadata": {},
     "output_type": "execute_result"
    }
   ],
   "source": [
    "a4.reshape(8,2)"
   ]
  },
  {
   "cell_type": "code",
   "execution_count": 27,
   "id": "dfa90145-49b8-4177-96e1-71b72cc6e198",
   "metadata": {},
   "outputs": [
    {
     "data": {
      "text/plain": [
       "array([[-0.62451964],\n",
       "       [ 0.38624685],\n",
       "       [ 0.25789902],\n",
       "       [ 0.32779511],\n",
       "       [ 1.07219242],\n",
       "       [ 0.41878358],\n",
       "       [ 0.27582083],\n",
       "       [-0.76226173],\n",
       "       [ 1.99661659],\n",
       "       [ 0.66677575],\n",
       "       [ 1.46873483],\n",
       "       [ 0.04805775],\n",
       "       [ 1.51076832],\n",
       "       [-0.73832866],\n",
       "       [-0.71160851],\n",
       "       [ 0.34361173]])"
      ]
     },
     "execution_count": 27,
     "metadata": {},
     "output_type": "execute_result"
    }
   ],
   "source": [
    "a4.reshape(16,1)"
   ]
  },
  {
   "cell_type": "code",
   "execution_count": 28,
   "id": "c4b18c67-96fc-4013-b1ca-0fbf4d0269e8",
   "metadata": {},
   "outputs": [
    {
     "data": {
      "text/plain": [
       "array([[-0.62451964,  0.38624685,  0.25789902,  0.32779511,  1.07219242,\n",
       "         0.41878358,  0.27582083, -0.76226173],\n",
       "       [ 1.99661659,  0.66677575,  1.46873483,  0.04805775,  1.51076832,\n",
       "        -0.73832866, -0.71160851,  0.34361173]])"
      ]
     },
     "execution_count": 28,
     "metadata": {},
     "output_type": "execute_result"
    }
   ],
   "source": [
    "a4.reshape(2,-134564364)"
   ]
  },
  {
   "cell_type": "code",
   "execution_count": 29,
   "id": "3b30e7b6-959b-416b-9360-c6fcc57a9606",
   "metadata": {},
   "outputs": [
    {
     "data": {
      "text/plain": [
       "array([[[[[[[[[[-0.62451964,  0.38624685,  0.25789902,\n",
       "                 0.32779511],\n",
       "               [ 1.07219242,  0.41878358,  0.27582083,\n",
       "                -0.76226173]],\n",
       "\n",
       "              [[ 1.99661659,  0.66677575,  1.46873483,\n",
       "                 0.04805775],\n",
       "               [ 1.51076832, -0.73832866, -0.71160851,\n",
       "                 0.34361173]]]]]]]]]])"
      ]
     },
     "execution_count": 29,
     "metadata": {},
     "output_type": "execute_result"
    }
   ],
   "source": [
    "a4.reshape(1,1,1,1,1,1,1,2,2,4)"
   ]
  },
  {
   "cell_type": "code",
   "execution_count": 30,
   "id": "28227bab-1fba-4a09-8d62-556fe6d3f8d0",
   "metadata": {},
   "outputs": [
    {
     "data": {
      "text/plain": [
       "array(['4', '5', '6', '7', 'python', '34', '565', 'True'], dtype='<U11')"
      ]
     },
     "execution_count": 30,
     "metadata": {},
     "output_type": "execute_result"
    }
   ],
   "source": [
    "a1"
   ]
  },
  {
   "cell_type": "code",
   "execution_count": 31,
   "id": "06747a98-43f4-4ba5-89fd-3e100aaac30c",
   "metadata": {},
   "outputs": [
    {
     "data": {
      "text/plain": [
       "'4'"
      ]
     },
     "execution_count": 31,
     "metadata": {},
     "output_type": "execute_result"
    }
   ],
   "source": [
    "a1[0]"
   ]
  },
  {
   "cell_type": "code",
   "execution_count": 32,
   "id": "b9346b30-d91e-4e0f-87d3-11b99dd74e83",
   "metadata": {},
   "outputs": [
    {
     "data": {
      "text/plain": [
       "array(['6', '7', 'python', '34'], dtype='<U11')"
      ]
     },
     "execution_count": 32,
     "metadata": {},
     "output_type": "execute_result"
    }
   ],
   "source": [
    "a1[2:6]"
   ]
  },
  {
   "cell_type": "code",
   "execution_count": 33,
   "id": "164f30d6-af07-418e-a9ee-79fb6c9321f1",
   "metadata": {},
   "outputs": [
    {
     "data": {
      "text/plain": [
       "array(['6', 'python'], dtype='<U11')"
      ]
     },
     "execution_count": 33,
     "metadata": {},
     "output_type": "execute_result"
    }
   ],
   "source": [
    "a1[2:6:2]"
   ]
  },
  {
   "cell_type": "code",
   "execution_count": 34,
   "id": "348608f6-00da-4eaf-a3c9-baf5d65958e3",
   "metadata": {},
   "outputs": [
    {
     "data": {
      "text/plain": [
       "array(['True', '565', '34', 'python', '7', '6', '5', '4'], dtype='<U11')"
      ]
     },
     "execution_count": 34,
     "metadata": {},
     "output_type": "execute_result"
    }
   ],
   "source": [
    "a1[::-1]"
   ]
  },
  {
   "cell_type": "code",
   "execution_count": 35,
   "id": "b027438a-8a90-4092-8f38-6fe88b962989",
   "metadata": {},
   "outputs": [
    {
     "data": {
      "text/plain": [
       "array([[[1, 2, 3],\n",
       "        [4, 5, 6],\n",
       "        [7, 8, 9]]])"
      ]
     },
     "execution_count": 35,
     "metadata": {},
     "output_type": "execute_result"
    }
   ],
   "source": [
    "a3"
   ]
  },
  {
   "cell_type": "code",
   "execution_count": 36,
   "id": "eb4983ca-6622-4862-9dee-ebfa48b53e59",
   "metadata": {},
   "outputs": [
    {
     "data": {
      "text/plain": [
       "array([[1, 2, 3],\n",
       "       [4, 5, 6]])"
      ]
     },
     "execution_count": 36,
     "metadata": {},
     "output_type": "execute_result"
    }
   ],
   "source": [
    "a2"
   ]
  },
  {
   "cell_type": "code",
   "execution_count": 37,
   "id": "65450c40-4148-4a46-b11f-ebfe3c4a9ef3",
   "metadata": {},
   "outputs": [
    {
     "data": {
      "text/plain": [
       "array([[2, 3],\n",
       "       [5, 6]])"
      ]
     },
     "execution_count": 37,
     "metadata": {},
     "output_type": "execute_result"
    }
   ],
   "source": [
    "a2[:,1:]"
   ]
  },
  {
   "cell_type": "code",
   "execution_count": 38,
   "id": "db1291ab-9342-4341-8d9c-614c917d25bb",
   "metadata": {},
   "outputs": [
    {
     "data": {
      "text/plain": [
       "array([[2, 3],\n",
       "       [5, 6]])"
      ]
     },
     "execution_count": 38,
     "metadata": {},
     "output_type": "execute_result"
    }
   ],
   "source": [
    "a2[:,[1,2]]"
   ]
  },
  {
   "cell_type": "code",
   "execution_count": 39,
   "id": "3a930d6a-091f-47c4-8320-497e20b40869",
   "metadata": {},
   "outputs": [
    {
     "data": {
      "text/plain": [
       "array([[2, 3],\n",
       "       [5, 6]])"
      ]
     },
     "execution_count": 39,
     "metadata": {},
     "output_type": "execute_result"
    }
   ],
   "source": [
    "a2[[0,1], 1:]"
   ]
  },
  {
   "cell_type": "code",
   "execution_count": 40,
   "id": "ad8026a3-4b7b-414c-be0d-233e4593c5e2",
   "metadata": {},
   "outputs": [
    {
     "data": {
      "text/plain": [
       "array([[2, 3],\n",
       "       [5, 6]])"
      ]
     },
     "execution_count": 40,
     "metadata": {},
     "output_type": "execute_result"
    }
   ],
   "source": [
    "a2[[0,1],1:]"
   ]
  },
  {
   "cell_type": "code",
   "execution_count": 41,
   "id": "6cf328c7-9413-4c62-8cd3-a3ae8745d5d3",
   "metadata": {},
   "outputs": [],
   "source": [
    "a5 = np.random.randint(2,90, (6,5))"
   ]
  },
  {
   "cell_type": "code",
   "execution_count": 42,
   "id": "48038046-cf51-4629-bcdd-b31e7d84aa7f",
   "metadata": {},
   "outputs": [
    {
     "data": {
      "text/plain": [
       "array([[20, 29, 34, 18,  3],\n",
       "       [79, 15, 73, 19, 43],\n",
       "       [51, 65, 41, 48, 69],\n",
       "       [78, 63, 26, 84, 21],\n",
       "       [75, 54, 26, 75, 74],\n",
       "       [82,  5, 22, 43, 18]])"
      ]
     },
     "execution_count": 42,
     "metadata": {},
     "output_type": "execute_result"
    }
   ],
   "source": [
    "a5"
   ]
  },
  {
   "cell_type": "code",
   "execution_count": 43,
   "id": "6bec9e61-2733-4c09-ba0e-550b601eb8c1",
   "metadata": {},
   "outputs": [
    {
     "data": {
      "text/plain": [
       "array([79, 73, 43, 51, 65, 41, 48, 69, 78, 63, 84, 75, 54, 75, 74, 82, 43])"
      ]
     },
     "execution_count": 43,
     "metadata": {},
     "output_type": "execute_result"
    }
   ],
   "source": [
    "a5[a5>40]"
   ]
  },
  {
   "cell_type": "code",
   "execution_count": 44,
   "id": "35f88692-d9c4-4e1a-9e48-787e6321c403",
   "metadata": {},
   "outputs": [],
   "source": [
    "a5[0,1] = 100"
   ]
  },
  {
   "cell_type": "code",
   "execution_count": 46,
   "id": "f1d7d66f-804d-4dd1-8c0d-54ab3eb23953",
   "metadata": {},
   "outputs": [
    {
     "data": {
      "text/plain": [
       "array([[ 20, 100,  34,  18,   3],\n",
       "       [ 79,  15,  73,  19,  43],\n",
       "       [ 51,  65,  41,  48,  69],\n",
       "       [ 78,  63,  26,  84,  21],\n",
       "       [ 75,  54,  26,  75,  74],\n",
       "       [ 82,   5,  22,  43,  18]])"
      ]
     },
     "execution_count": 46,
     "metadata": {},
     "output_type": "execute_result"
    }
   ],
   "source": [
    "a5"
   ]
  },
  {
   "cell_type": "code",
   "execution_count": 47,
   "id": "6f13b2d5-cd78-4523-81f1-d2f23ba55a23",
   "metadata": {},
   "outputs": [],
   "source": [
    "a6 = np.random.randint(0,3, (3,3))"
   ]
  },
  {
   "cell_type": "code",
   "execution_count": 48,
   "id": "3d60ede8-ece7-45bc-bb20-310b7bb4d4b1",
   "metadata": {},
   "outputs": [],
   "source": [
    "a7 = np.random.randint(0,3, (3,3))"
   ]
  },
  {
   "cell_type": "code",
   "execution_count": 49,
   "id": "409c9ae8-f5bf-4adc-916b-911756db7f9d",
   "metadata": {},
   "outputs": [
    {
     "data": {
      "text/plain": [
       "array([[1, 2, 1],\n",
       "       [1, 1, 2],\n",
       "       [1, 0, 0]])"
      ]
     },
     "execution_count": 49,
     "metadata": {},
     "output_type": "execute_result"
    }
   ],
   "source": [
    "a6"
   ]
  },
  {
   "cell_type": "code",
   "execution_count": 50,
   "id": "f871c254-a0b6-4081-af7a-d578754088b4",
   "metadata": {},
   "outputs": [
    {
     "data": {
      "text/plain": [
       "array([[1, 2, 1],\n",
       "       [2, 0, 1],\n",
       "       [1, 1, 2]])"
      ]
     },
     "execution_count": 50,
     "metadata": {},
     "output_type": "execute_result"
    }
   ],
   "source": [
    "a7"
   ]
  },
  {
   "cell_type": "code",
   "execution_count": 51,
   "id": "dedabb26-867d-4c81-8ada-e5a56f6dd4b3",
   "metadata": {},
   "outputs": [
    {
     "data": {
      "text/plain": [
       "array([[1, 4, 1],\n",
       "       [2, 0, 2],\n",
       "       [1, 0, 0]])"
      ]
     },
     "execution_count": 51,
     "metadata": {},
     "output_type": "execute_result"
    }
   ],
   "source": [
    "a6*a7"
   ]
  },
  {
   "cell_type": "code",
   "execution_count": 54,
   "id": "30a5c8e7-4ae7-49c2-b4ea-036b790c5281",
   "metadata": {},
   "outputs": [
    {
     "data": {
      "text/plain": [
       "array([[6, 3, 5],\n",
       "       [5, 4, 6],\n",
       "       [1, 2, 1]])"
      ]
     },
     "execution_count": 54,
     "metadata": {},
     "output_type": "execute_result"
    }
   ],
   "source": [
    "a6@a7"
   ]
  },
  {
   "cell_type": "code",
   "execution_count": 55,
   "id": "7bba44aa-84b2-4fcf-83ec-888dfc6789a1",
   "metadata": {},
   "outputs": [
    {
     "data": {
      "text/plain": [
       "array([[1, 2, 1],\n",
       "       [1, 1, 2],\n",
       "       [1, 0, 0]])"
      ]
     },
     "execution_count": 55,
     "metadata": {},
     "output_type": "execute_result"
    }
   ],
   "source": [
    "a6"
   ]
  },
  {
   "cell_type": "code",
   "execution_count": 56,
   "id": "2f7520a7-6130-4c9d-b102-ca78e0bf02d4",
   "metadata": {},
   "outputs": [
    {
     "data": {
      "text/plain": [
       "array([[101, 102, 101],\n",
       "       [101, 101, 102],\n",
       "       [101, 100, 100]])"
      ]
     },
     "execution_count": 56,
     "metadata": {},
     "output_type": "execute_result"
    }
   ],
   "source": [
    "a6+100"
   ]
  },
  {
   "cell_type": "code",
   "execution_count": 57,
   "id": "5afd26e3-5c9d-44a1-80b5-06ac94c62b4c",
   "metadata": {},
   "outputs": [
    {
     "data": {
      "text/plain": [
       "array([[2, 4, 2],\n",
       "       [2, 2, 4],\n",
       "       [2, 0, 0]])"
      ]
     },
     "execution_count": 57,
     "metadata": {},
     "output_type": "execute_result"
    }
   ],
   "source": [
    "a6*2"
   ]
  },
  {
   "cell_type": "code",
   "execution_count": 58,
   "id": "bf4162a0-6e75-4832-8491-b7fee9be63be",
   "metadata": {},
   "outputs": [
    {
     "name": "stderr",
     "output_type": "stream",
     "text": [
      "C:\\Users\\farid\\AppData\\Local\\Temp\\ipykernel_4492\\1058679823.py:1: RuntimeWarning: divide by zero encountered in divide\n",
      "  a6/0\n",
      "C:\\Users\\farid\\AppData\\Local\\Temp\\ipykernel_4492\\1058679823.py:1: RuntimeWarning: invalid value encountered in divide\n",
      "  a6/0\n"
     ]
    },
    {
     "data": {
      "text/plain": [
       "array([[inf, inf, inf],\n",
       "       [inf, inf, inf],\n",
       "       [inf, nan, nan]])"
      ]
     },
     "execution_count": 58,
     "metadata": {},
     "output_type": "execute_result"
    }
   ],
   "source": [
    "a6/0"
   ]
  },
  {
   "cell_type": "code",
   "execution_count": 59,
   "id": "044827ce-0857-47ad-b311-1b291c040fc6",
   "metadata": {},
   "outputs": [
    {
     "data": {
      "text/plain": [
       "array([[1, 2, 1],\n",
       "       [1, 1, 2],\n",
       "       [1, 0, 0]])"
      ]
     },
     "execution_count": 59,
     "metadata": {},
     "output_type": "execute_result"
    }
   ],
   "source": [
    "a6"
   ]
  },
  {
   "cell_type": "code",
   "execution_count": 60,
   "id": "e801cefb-40b3-4d54-91a8-2bec699d1ed6",
   "metadata": {},
   "outputs": [
    {
     "data": {
      "text/plain": [
       "array([[1, 8, 1],\n",
       "       [1, 1, 8],\n",
       "       [1, 0, 0]], dtype=int32)"
      ]
     },
     "execution_count": 60,
     "metadata": {},
     "output_type": "execute_result"
    }
   ],
   "source": [
    "a6**3"
   ]
  },
  {
   "cell_type": "code",
   "execution_count": 61,
   "id": "bf85c2af-a0fd-4155-93f0-21076fb8ca0c",
   "metadata": {},
   "outputs": [],
   "source": [
    "a8 = np.zeros((4,4))"
   ]
  },
  {
   "cell_type": "code",
   "execution_count": 62,
   "id": "fa626a39-1407-4da4-b88e-a62e3619b452",
   "metadata": {},
   "outputs": [
    {
     "data": {
      "text/plain": [
       "array([[0., 0., 0., 0.],\n",
       "       [0., 0., 0., 0.],\n",
       "       [0., 0., 0., 0.],\n",
       "       [0., 0., 0., 0.]])"
      ]
     },
     "execution_count": 62,
     "metadata": {},
     "output_type": "execute_result"
    }
   ],
   "source": [
    "a8"
   ]
  },
  {
   "cell_type": "code",
   "execution_count": 68,
   "id": "82424457-60b8-4316-95e2-531eb492dc70",
   "metadata": {},
   "outputs": [],
   "source": [
    "a9 = np.ones((4,5))"
   ]
  },
  {
   "cell_type": "code",
   "execution_count": 69,
   "id": "cc0dbb2e-cbbc-4948-9a2e-e5857d6e04a9",
   "metadata": {},
   "outputs": [
    {
     "data": {
      "text/plain": [
       "array([[1., 1., 1., 1., 1.],\n",
       "       [1., 1., 1., 1., 1.],\n",
       "       [1., 1., 1., 1., 1.],\n",
       "       [1., 1., 1., 1., 1.]])"
      ]
     },
     "execution_count": 69,
     "metadata": {},
     "output_type": "execute_result"
    }
   ],
   "source": [
    "a9"
   ]
  },
  {
   "cell_type": "code",
   "execution_count": 70,
   "id": "4740e869-64d3-4fdf-a325-5d6900bf51d9",
   "metadata": {},
   "outputs": [
    {
     "data": {
      "text/plain": [
       "array([[11., 11., 11., 11., 11.],\n",
       "       [11., 11., 11., 11., 11.],\n",
       "       [11., 11., 11., 11., 11.],\n",
       "       [11., 11., 11., 11., 11.]])"
      ]
     },
     "execution_count": 70,
     "metadata": {},
     "output_type": "execute_result"
    }
   ],
   "source": [
    "a9+10"
   ]
  },
  {
   "cell_type": "code",
   "execution_count": 71,
   "id": "1ae47160-c7f1-477b-bd5e-f14628f0fd3a",
   "metadata": {},
   "outputs": [
    {
     "data": {
      "text/plain": [
       "array([[2., 3., 4., 5., 6.],\n",
       "       [2., 3., 4., 5., 6.],\n",
       "       [2., 3., 4., 5., 6.],\n",
       "       [2., 3., 4., 5., 6.]])"
      ]
     },
     "execution_count": 71,
     "metadata": {},
     "output_type": "execute_result"
    }
   ],
   "source": [
    "a9 + np.array([1,2,3,4,5])"
   ]
  },
  {
   "cell_type": "code",
   "execution_count": 72,
   "id": "c0c8d312-fe13-40b1-9737-a40c89e50679",
   "metadata": {},
   "outputs": [
    {
     "data": {
      "text/plain": [
       "array([[1., 1., 1., 1., 1.],\n",
       "       [1., 1., 1., 1., 1.],\n",
       "       [1., 1., 1., 1., 1.],\n",
       "       [1., 1., 1., 1., 1.]])"
      ]
     },
     "execution_count": 72,
     "metadata": {},
     "output_type": "execute_result"
    }
   ],
   "source": [
    "a9"
   ]
  },
  {
   "cell_type": "code",
   "execution_count": 73,
   "id": "3961c921-31cc-4147-a1ac-0a02c9f86a9d",
   "metadata": {},
   "outputs": [
    {
     "data": {
      "text/plain": [
       "array([[2., 2., 2., 2., 2.],\n",
       "       [3., 3., 3., 3., 3.],\n",
       "       [4., 4., 4., 4., 4.],\n",
       "       [5., 5., 5., 5., 5.]])"
      ]
     },
     "execution_count": 73,
     "metadata": {},
     "output_type": "execute_result"
    }
   ],
   "source": [
    "np.array([[1,2,3,4]]).T + a9"
   ]
  },
  {
   "cell_type": "code",
   "execution_count": 74,
   "id": "ee410dd2-77ab-4e83-a773-3f47774091c9",
   "metadata": {},
   "outputs": [
    {
     "data": {
      "text/plain": [
       "array([[1],\n",
       "       [2],\n",
       "       [3],\n",
       "       [4]])"
      ]
     },
     "execution_count": 74,
     "metadata": {},
     "output_type": "execute_result"
    }
   ],
   "source": [
    "np.array([[1,2,3,4]]).T"
   ]
  },
  {
   "cell_type": "code",
   "execution_count": 75,
   "id": "a5b3f516-5409-4287-90b6-17537385b26b",
   "metadata": {},
   "outputs": [
    {
     "data": {
      "text/plain": [
       "array([[1, 2, 3, 4]])"
      ]
     },
     "execution_count": 75,
     "metadata": {},
     "output_type": "execute_result"
    }
   ],
   "source": [
    "np.array([[1,2,3,4]])"
   ]
  },
  {
   "cell_type": "code",
   "execution_count": 78,
   "id": "934fd11a-9505-4f86-914c-c40b0ef66dbc",
   "metadata": {},
   "outputs": [
    {
     "data": {
      "text/plain": [
       "array([[ 20, 100,  34,  18,   3],\n",
       "       [ 79,  15,  73,  19,  43],\n",
       "       [ 51,  65,  41,  48,  69],\n",
       "       [ 78,  63,  26,  84,  21],\n",
       "       [ 75,  54,  26,  75,  74],\n",
       "       [ 82,   5,  22,  43,  18]])"
      ]
     },
     "execution_count": 78,
     "metadata": {},
     "output_type": "execute_result"
    }
   ],
   "source": [
    "a5"
   ]
  },
  {
   "cell_type": "code",
   "execution_count": 76,
   "id": "b6e6094a-630f-4500-b0d1-6c719ec9bfa0",
   "metadata": {},
   "outputs": [
    {
     "data": {
      "text/plain": [
       "array([[ 4.47213595, 10.        ,  5.83095189,  4.24264069,  1.73205081],\n",
       "       [ 8.88819442,  3.87298335,  8.54400375,  4.35889894,  6.55743852],\n",
       "       [ 7.14142843,  8.06225775,  6.40312424,  6.92820323,  8.30662386],\n",
       "       [ 8.83176087,  7.93725393,  5.09901951,  9.16515139,  4.58257569],\n",
       "       [ 8.66025404,  7.34846923,  5.09901951,  8.66025404,  8.60232527],\n",
       "       [ 9.05538514,  2.23606798,  4.69041576,  6.55743852,  4.24264069]])"
      ]
     },
     "execution_count": 76,
     "metadata": {},
     "output_type": "execute_result"
    }
   ],
   "source": [
    "np.sqrt(a5)"
   ]
  },
  {
   "cell_type": "code",
   "execution_count": 77,
   "id": "5aeb85c6-d66c-47a0-8fed-15017914fba3",
   "metadata": {},
   "outputs": [
    {
     "data": {
      "text/plain": [
       "array([[4.85165195e+08, 2.68811714e+43, 5.83461743e+14, 6.56599691e+07,\n",
       "        2.00855369e+01],\n",
       "       [2.03828107e+34, 3.26901737e+06, 5.05239363e+31, 1.78482301e+08,\n",
       "        4.72783947e+18],\n",
       "       [1.40934908e+22, 1.69488924e+28, 6.39843494e+17, 7.01673591e+20,\n",
       "        9.25378173e+29],\n",
       "       [7.49841700e+33, 2.29378316e+27, 1.95729609e+11, 3.02507732e+36,\n",
       "        1.31881573e+09],\n",
       "       [3.73324200e+32, 2.83075330e+23, 1.95729609e+11, 3.73324200e+32,\n",
       "        1.37338298e+32],\n",
       "       [4.09399696e+35, 1.48413159e+02, 3.58491285e+09, 4.72783947e+18,\n",
       "        6.56599691e+07]])"
      ]
     },
     "execution_count": 77,
     "metadata": {},
     "output_type": "execute_result"
    }
   ],
   "source": [
    "np.exp(a5)"
   ]
  },
  {
   "cell_type": "code",
   "execution_count": 79,
   "id": "81605659-a7d1-4d57-a77e-c95cc046be06",
   "metadata": {},
   "outputs": [
    {
     "data": {
      "text/plain": [
       "array([[1.30103   , 2.        , 1.53147892, 1.25527251, 0.47712125],\n",
       "       [1.89762709, 1.17609126, 1.86332286, 1.2787536 , 1.63346846],\n",
       "       [1.70757018, 1.81291336, 1.61278386, 1.68124124, 1.83884909],\n",
       "       [1.8920946 , 1.79934055, 1.41497335, 1.92427929, 1.32221929],\n",
       "       [1.87506126, 1.73239376, 1.41497335, 1.87506126, 1.86923172],\n",
       "       [1.91381385, 0.69897   , 1.34242268, 1.63346846, 1.25527251]])"
      ]
     },
     "execution_count": 79,
     "metadata": {},
     "output_type": "execute_result"
    }
   ],
   "source": [
    "np.log10(a5)"
   ]
  },
  {
   "cell_type": "code",
   "execution_count": 80,
   "id": "ca9bfab1-a8cc-4980-a591-57aa15c029c5",
   "metadata": {},
   "outputs": [
    {
     "data": {
      "text/plain": [
       "[0, 2, 4, 6, 8]"
      ]
     },
     "execution_count": 80,
     "metadata": {},
     "output_type": "execute_result"
    }
   ],
   "source": [
    "list(range(0,10, 2))"
   ]
  },
  {
   "cell_type": "code",
   "execution_count": 81,
   "id": "a24e07d8-d848-4897-9b28-9615df774e96",
   "metadata": {},
   "outputs": [
    {
     "data": {
      "text/plain": [
       "array([1.8, 4.3, 6.8, 9.3])"
      ]
     },
     "execution_count": 81,
     "metadata": {},
     "output_type": "execute_result"
    }
   ],
   "source": [
    "np.arange(1.8,10.7,2.5)"
   ]
  },
  {
   "cell_type": "code",
   "execution_count": 82,
   "id": "6da9b154-500b-4f77-af74-621e2318ce2d",
   "metadata": {},
   "outputs": [
    {
     "data": {
      "text/plain": [
       "(array([2.        , 2.02040816, 2.04081633, 2.06122449, 2.08163265,\n",
       "        2.10204082, 2.12244898, 2.14285714, 2.16326531, 2.18367347,\n",
       "        2.20408163, 2.2244898 , 2.24489796, 2.26530612, 2.28571429,\n",
       "        2.30612245, 2.32653061, 2.34693878, 2.36734694, 2.3877551 ,\n",
       "        2.40816327, 2.42857143, 2.44897959, 2.46938776, 2.48979592,\n",
       "        2.51020408, 2.53061224, 2.55102041, 2.57142857, 2.59183673,\n",
       "        2.6122449 , 2.63265306, 2.65306122, 2.67346939, 2.69387755,\n",
       "        2.71428571, 2.73469388, 2.75510204, 2.7755102 , 2.79591837,\n",
       "        2.81632653, 2.83673469, 2.85714286, 2.87755102, 2.89795918,\n",
       "        2.91836735, 2.93877551, 2.95918367, 2.97959184, 3.        ]),\n",
       " 0.02040816326530612)"
      ]
     },
     "execution_count": 82,
     "metadata": {},
     "output_type": "execute_result"
    }
   ],
   "source": [
    "np.linspace(2,3, num=50, retstep=True)"
   ]
  },
  {
   "cell_type": "code",
   "execution_count": 83,
   "id": "776eb170-574b-4ee5-858f-9c72473b15f0",
   "metadata": {},
   "outputs": [
    {
     "data": {
      "text/plain": [
       "array([  100.        ,   464.15888336,  2154.43469003, 10000.        ])"
      ]
     },
     "execution_count": 83,
     "metadata": {},
     "output_type": "execute_result"
    }
   ],
   "source": [
    "np.logspace(2,4, num=4, base=10)"
   ]
  },
  {
   "cell_type": "code",
   "execution_count": 84,
   "id": "212607d6-ccb0-4f0e-b11f-0b5e4f72b0b0",
   "metadata": {},
   "outputs": [
    {
     "data": {
      "text/plain": [
       "array([[1., 0., 0., 0., 0.],\n",
       "       [0., 1., 0., 0., 0.],\n",
       "       [0., 0., 1., 0., 0.],\n",
       "       [0., 0., 0., 1., 0.],\n",
       "       [0., 0., 0., 0., 1.]])"
      ]
     },
     "execution_count": 84,
     "metadata": {},
     "output_type": "execute_result"
    }
   ],
   "source": [
    "np.eye(5)"
   ]
  }
 ],
 "metadata": {
  "kernelspec": {
   "display_name": "Python 3 (ipykernel)",
   "language": "python",
   "name": "python3"
  },
  "language_info": {
   "codemirror_mode": {
    "name": "ipython",
    "version": 3
   },
   "file_extension": ".py",
   "mimetype": "text/x-python",
   "name": "python",
   "nbconvert_exporter": "python",
   "pygments_lexer": "ipython3",
   "version": "3.12.2"
  }
 },
 "nbformat": 4,
 "nbformat_minor": 5
}
